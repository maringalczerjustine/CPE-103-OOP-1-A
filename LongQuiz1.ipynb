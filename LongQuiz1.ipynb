{
  "nbformat": 4,
  "nbformat_minor": 0,
  "metadata": {
    "colab": {
      "provenance": [],
      "authorship_tag": "ABX9TyMi0AEtcjZSf32hpKZizEsx",
      "include_colab_link": true
    },
    "kernelspec": {
      "name": "python3",
      "display_name": "Python 3"
    },
    "language_info": {
      "name": "python"
    }
  },
  "cells": [
    {
      "cell_type": "markdown",
      "metadata": {
        "id": "view-in-github",
        "colab_type": "text"
      },
      "source": [
        "<a href=\"https://colab.research.google.com/github/maringalczerjustine/CPE-103-OOP-1-A/blob/main/LongQuiz1.ipynb\" target=\"_parent\"><img src=\"https://colab.research.google.com/assets/colab-badge.svg\" alt=\"Open In Colab\"/></a>"
      ]
    },
    {
      "cell_type": "code",
      "execution_count": 25,
      "metadata": {
        "colab": {
          "base_uri": "https://localhost:8080/"
        },
        "id": "-FToOoT368vM",
        "outputId": "49c2e60b-11d0-43d3-c150-2648403d32f1"
      },
      "outputs": [
        {
          "output_type": "stream",
          "name": "stdout",
          "text": [
            "\n",
            "Student ID: 2025001\n",
            " Name: Ana\n",
            " Program: Computer Engineering\n",
            " Sex: Female\n",
            " Height: 154cm\n",
            " Weight: 41kg\n",
            "\n",
            "Ana has enrolled in CPE103.\n",
            "Grades for Ana (2025001):\n",
            "Course: CPE103, Midterm: 88.5, Final: 87.9\n",
            "\n",
            "Student ID: 2025002\n",
            " Name: Mench\n",
            " Program: Electrical Engineering\n",
            " Sex: Female\n",
            " Height: 160cm\n",
            " Weight: 48kg\n",
            "\n",
            "Mench has enrolled in CPE103.\n",
            "Grades for Mench (2025002):\n",
            "Course: CPE103, Midterm: 94.35, Final: 96.4\n",
            "\n",
            "Student ID: 2025003\n",
            " Name: John\n",
            " Program: Industrial Engineering\n",
            " Sex: Male\n",
            " Height: 170cm\n",
            " Weight: 65kg\n",
            "\n",
            "John has enrolled in CPE103.\n",
            "Grades for John (2025003):\n",
            "Course: CPE103, Midterm: 79.85000000000001, Final: 85.65\n"
          ]
        }
      ],
      "source": [
        "class Student:\n",
        "    def __init__(self, student_id, name, program, sex, height, weight):\n",
        "        self.student_id = student_id\n",
        "        self.name = name\n",
        "        self.program = program\n",
        "        self.sex = sex\n",
        "        self.height = height\n",
        "        self.weight = weight\n",
        "        self.courses = {}  # Dictionary to store courses and grades\n",
        "\n",
        "        print(f\"\\nStudent ID: {self.student_id}\\n\",(f\"Name: {self.name}\\n\"),(f\"Program: {self.program}\\n\"),(f\"Sex: {self.sex}\\n\"),(f\"Height: {self.height}cm\\n\"),(f\"Weight: {self.weight}kg\\n\"))\n",
        "\n",
        "    def enroll_course(self, course_code):\n",
        "        if course_code not in self.courses:\n",
        "            self.courses[course_code] = {'Midterm': None, 'Final': None}\n",
        "            print(f\"{self.name} has enrolled in {course_code}.\")\n",
        "        else:\n",
        "            print(f\"{self.name} is already enrolled in {course_code}.\")\n",
        "\n",
        "    def compute_grade(self, course_code, class_standing, quiz, seatwork, assignment, recitation):\n",
        "        if course_code not in self.courses:\n",
        "            print(f\"{self.name} is not enrolled in {course_code}.\")\n",
        "            return\n",
        "\n",
        "        grade = (class_standing * 0.3) + (quiz * 0.2) + (seatwork * 0.2) + (assignment * 0.15) + (recitation * 0.15)\n",
        "\n",
        "        if self.courses[course_code]['Midterm'] is None:\n",
        "            self.courses[course_code]['Midterm'] = grade\n",
        "        else:\n",
        "            self.courses[course_code]['Final'] = grade\n",
        "\n",
        "    def view_grades(self):\n",
        "        print(f\"Grades for {self.name} ({self.student_id}):\")\n",
        "        for course, grades in self.courses.items():\n",
        "            print(f\"Course: {course}, Midterm: {grades['Midterm']}, Final: {grades['Final']}\")\n",
        "\n",
        "student1 = Student(\"2025001\", \"Ana\", \"Computer Engineering\", \"Female\", 154, 41)\n",
        "student1.enroll_course(\"CPE103\")\n",
        "student1.compute_grade(\"CPE103\", 85, 90, 90, 88, 92)  # Midterm\n",
        "student1.compute_grade(\"CPE103\", 87, 89, 85, 90, 90)  # Final\n",
        "student1.view_grades()\n",
        "\n",
        "student2 = Student(\"2025002\", \"Mench\", \"Electrical Engineering\", \"Female\", 160, 48)\n",
        "student2.enroll_course(\"CPE103\")\n",
        "student2.compute_grade(\"CPE103\", 95, 90, 93, 97, 98)  # Midterm\n",
        "student2.compute_grade(\"CPE103\", 95, 97, 97, 98, 96)  # Final\n",
        "student2.view_grades()\n",
        "\n",
        "student3 = Student(\"2025003\", \"John\", \"Industrial Engineering\", \"Male\", 170, 65)\n",
        "student3.enroll_course(\"CPE103\")\n",
        "student3.compute_grade(\"CPE103\", 76, 83, 80, 78, 85)  # Midterm\n",
        "student3.compute_grade(\"CPE103\", 87, 89, 85, 87, 78)  # Final\n",
        "student3.view_grades()\n",
        "\n"
      ]
    }
  ]
}