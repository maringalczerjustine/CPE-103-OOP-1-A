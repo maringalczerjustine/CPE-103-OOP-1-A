{
  "nbformat": 4,
  "nbformat_minor": 0,
  "metadata": {
    "colab": {
      "provenance": [],
      "authorship_tag": "ABX9TyP5O5NRWlBA2zu2CPS+4gox",
      "include_colab_link": true
    },
    "kernelspec": {
      "name": "python3",
      "display_name": "Python 3"
    },
    "language_info": {
      "name": "python"
    }
  },
  "cells": [
    {
      "cell_type": "markdown",
      "metadata": {
        "id": "view-in-github",
        "colab_type": "text"
      },
      "source": [
        "<a href=\"https://colab.research.google.com/github/maringalczerjustine/CPE-103-OOP-1-A/blob/main/LaboratoryActivity_4.ipynb\" target=\"_parent\"><img src=\"https://colab.research.google.com/assets/colab-badge.svg\" alt=\"Open In Colab\"/></a>"
      ]
    },
    {
      "cell_type": "markdown",
      "source": [
        "**LIST**"
      ],
      "metadata": {
        "id": "Tenqd6NZIQwE"
      }
    },
    {
      "cell_type": "code",
      "execution_count": 4,
      "metadata": {
        "colab": {
          "base_uri": "https://localhost:8080/"
        },
        "id": "qjsMtbmwHCia",
        "outputId": "872c0c61-4f98-4b03-8974-9f782b4ec5cf"
      },
      "outputs": [
        {
          "output_type": "stream",
          "name": "stdout",
          "text": [
            "5\n",
            "4\n",
            "2\n",
            "1\n",
            "3\n",
            "3\n",
            "1\n",
            "2\n",
            "4\n",
            "5\n"
          ]
        }
      ],
      "source": [
        "numberlist = [5, 4, 2, 1, 3]\n",
        "\n",
        "len(numberlist)\n",
        "print(numberlist[0])\n",
        "print(numberlist[1])\n",
        "print(numberlist[2])\n",
        "print(numberlist[3])\n",
        "print(numberlist[4])\n",
        "print(numberlist[-1])\n",
        "print(numberlist[-2])\n",
        "print(numberlist[-3])\n",
        "print(numberlist[-4])\n",
        "print(numberlist[-5])"
      ]
    },
    {
      "cell_type": "markdown",
      "source": [
        "**Observation:** Since the range value is 0 to 4 only, the values of numberlist[5] and numberlist[-6] return to error when it print"
      ],
      "metadata": {
        "id": "5xdT5_vEJqvM"
      }
    },
    {
      "cell_type": "code",
      "source": [
        "itemlist = [1,-2.0, [1,2,3], \"Word\"]\n",
        "\n",
        "print(len(itemlist))\n",
        "print(itemlist[0])\n",
        "print(itemlist[1])\n",
        "print(itemlist[2])\n",
        "print(itemlist[3])\n",
        "print(len(itemlist[2]))\n",
        "print(itemlist[2][0])\n",
        "print(itemlist[2][1])\n",
        "print(itemlist[2][2])\n",
        "print(itemlist[-1])\n",
        "print(itemlist[-2])\n",
        "print(itemlist[-3])\n",
        "print(itemlist[-4])\n",
        "print(len(itemlist[-2]))\n",
        "print(itemlist[-2][0])\n",
        "print(itemlist[-2][1])\n",
        "print(itemlist[-2][2])\n",
        "print(itemlist[-2][-3])\n",
        "print(itemlist[-2][-2])\n",
        "print(itemlist[-2][-1])"
      ],
      "metadata": {
        "colab": {
          "base_uri": "https://localhost:8080/"
        },
        "id": "o2KHnaaMKf3d",
        "outputId": "5d2554ac-d953-42f7-b98e-bb7cab548b4c"
      },
      "execution_count": 53,
      "outputs": [
        {
          "output_type": "stream",
          "name": "stdout",
          "text": [
            "4\n",
            "1\n",
            "-2.0\n",
            "[1, 2, 3]\n",
            "Word\n",
            "3\n",
            "1\n",
            "2\n",
            "3\n",
            "Word\n",
            "[1, 2, 3]\n",
            "-2.0\n",
            "1\n",
            "3\n",
            "1\n",
            "2\n",
            "3\n",
            "1\n",
            "2\n",
            "3\n"
          ]
        }
      ]
    },
    {
      "cell_type": "markdown",
      "source": [
        "Write your observation after printing all the values. What does len() do?"
      ],
      "metadata": {
        "id": "M2clWAjQNiGs"
      }
    },
    {
      "cell_type": "markdown",
      "source": [
        "**Answer:** I think len() do is to focused on how many index values in the spicific\n",
        "itemlist range declared"
      ],
      "metadata": {
        "id": "UDyipsohePCA"
      }
    },
    {
      "cell_type": "markdown",
      "source": [
        "**INDEX SLICING**"
      ],
      "metadata": {
        "id": "lriRQ_MNPZS6"
      }
    },
    {
      "cell_type": "code",
      "source": [
        "longlist = (numberlist + itemlist)\n",
        "\n",
        "print(len(longlist))\n",
        "print(longlist[:])\n",
        "print(longlist[:9])\n",
        "print(longlist[0:])\n",
        "print(longlist[1:])\n",
        "print(longlist[2:])"
      ],
      "metadata": {
        "colab": {
          "base_uri": "https://localhost:8080/"
        },
        "id": "VhHGeBI_OHgW",
        "outputId": "9b6a8dde-f3bc-4238-f1a2-ef95c7ec64fc"
      },
      "execution_count": 54,
      "outputs": [
        {
          "output_type": "stream",
          "name": "stdout",
          "text": [
            "10\n",
            "[1, 2, 3, 4, 5, 6, 1, -2.0, [1, 2, 3], 'Word']\n",
            "[1, 2, 3, 4, 5, 6, 1, -2.0, [1, 2, 3]]\n",
            "[1, 2, 3, 4, 5, 6, 1, -2.0, [1, 2, 3], 'Word']\n",
            "[2, 3, 4, 5, 6, 1, -2.0, [1, 2, 3], 'Word']\n",
            "[3, 4, 5, 6, 1, -2.0, [1, 2, 3], 'Word']\n"
          ]
        }
      ]
    },
    {
      "cell_type": "markdown",
      "source": [
        " IS with Range"
      ],
      "metadata": {
        "id": "Kej51R_BQFnc"
      }
    },
    {
      "cell_type": "code",
      "source": [
        "print(longlist[2:5])\n",
        "print(longlist[5:2])\n",
        "print(longlist[8:])\n",
        "print(longlist[9:])"
      ],
      "metadata": {
        "colab": {
          "base_uri": "https://localhost:8080/"
        },
        "id": "uXNMQQyRQJCm",
        "outputId": "5b0ff693-de2c-45a0-ef85-b9cb62f9cb61"
      },
      "execution_count": 17,
      "outputs": [
        {
          "output_type": "stream",
          "name": "stdout",
          "text": [
            "[2, 1, 3]\n",
            "[]\n",
            "['Word']\n",
            "[]\n"
          ]
        }
      ]
    },
    {
      "cell_type": "markdown",
      "source": [
        "IS using Negative Indeces"
      ],
      "metadata": {
        "id": "8Rm1Q9mORFtE"
      }
    },
    {
      "cell_type": "code",
      "source": [
        "print(longlist[-9:])\n",
        "print(longlist[-8:])\n",
        "print(longlist[-8:-7])\n",
        "print(longlist[-1])"
      ],
      "metadata": {
        "colab": {
          "base_uri": "https://localhost:8080/"
        },
        "id": "vHnTlRlHRKPg",
        "outputId": "2d2fc955-44c1-403b-86f5-75e409936ba7"
      },
      "execution_count": 18,
      "outputs": [
        {
          "output_type": "stream",
          "name": "stdout",
          "text": [
            "[5, 4, 2, 1, 3, 1, -2.0, [1, 2, 3], 'Word']\n",
            "[4, 2, 1, 3, 1, -2.0, [1, 2, 3], 'Word']\n",
            "[4]\n",
            "Word\n"
          ]
        }
      ]
    },
    {
      "cell_type": "markdown",
      "source": [
        "Other properties of IS"
      ],
      "metadata": {
        "id": "50zJolYSRwdD"
      }
    },
    {
      "cell_type": "code",
      "source": [
        "print(longlist[10:20])\n",
        "print(longlist[-7:5])"
      ],
      "metadata": {
        "colab": {
          "base_uri": "https://localhost:8080/"
        },
        "id": "8h4MlbGsR1JR",
        "outputId": "4a698e3c-edbe-425c-b5bb-c4491e37f0af"
      },
      "execution_count": 19,
      "outputs": [
        {
          "output_type": "stream",
          "name": "stdout",
          "text": [
            "[]\n",
            "[2, 1, 3]\n"
          ]
        }
      ]
    },
    {
      "cell_type": "markdown",
      "source": [
        "IS with Step Parameter"
      ],
      "metadata": {
        "id": "bwooXVp6SMab"
      }
    },
    {
      "cell_type": "code",
      "source": [
        "print(longlist[::1])\n",
        "print(longlist[::2])\n",
        "print(longlist[1:8:2])\n",
        "print(longlist[9:1:-1])\n",
        "print(longlist[-1::1])\n",
        "print(longlist[-1::-1])"
      ],
      "metadata": {
        "colab": {
          "base_uri": "https://localhost:8080/"
        },
        "id": "J-NwfPk2SR9O",
        "outputId": "8e54c4ac-c2b9-47d7-c5e4-17f890279e58"
      },
      "execution_count": 20,
      "outputs": [
        {
          "output_type": "stream",
          "name": "stdout",
          "text": [
            "[5, 4, 2, 1, 3, 1, -2.0, [1, 2, 3], 'Word']\n",
            "[5, 2, 3, -2.0, 'Word']\n",
            "[4, 1, 1, [1, 2, 3]]\n",
            "['Word', [1, 2, 3], -2.0, 1, 3, 1, 2]\n",
            "['Word']\n",
            "['Word', [1, 2, 3], -2.0, 1, 3, 1, 2, 4, 5]\n"
          ]
        }
      ]
    },
    {
      "cell_type": "markdown",
      "source": [
        "**LIST METHODS AND THE MUTABLE PROPERTY OF LISTS**"
      ],
      "metadata": {
        "id": "EApSnpZ1TufT"
      }
    },
    {
      "cell_type": "code",
      "source": [
        "numberlist2 = numberlist\n",
        "\n",
        "print(numberlist)\n",
        "print(numberlist2)"
      ],
      "metadata": {
        "colab": {
          "base_uri": "https://localhost:8080/"
        },
        "id": "O6lDQKJeT4MH",
        "outputId": "82b67ab6-5e45-4289-80e8-5c70fd952592"
      },
      "execution_count": 21,
      "outputs": [
        {
          "output_type": "stream",
          "name": "stdout",
          "text": [
            "[5, 4, 2, 1, 3]\n",
            "[5, 4, 2, 1, 3]\n"
          ]
        }
      ]
    },
    {
      "cell_type": "code",
      "source": [
        "numberlist[0] = 6\n",
        "print(numberlist)\n",
        "print(numberlist2)"
      ],
      "metadata": {
        "colab": {
          "base_uri": "https://localhost:8080/"
        },
        "id": "0sf0Bie1UV2u",
        "outputId": "18038a81-0393-49f8-84d8-f075315e3ea0"
      },
      "execution_count": 22,
      "outputs": [
        {
          "output_type": "stream",
          "name": "stdout",
          "text": [
            "[6, 4, 2, 1, 3]\n",
            "[6, 4, 2, 1, 3]\n"
          ]
        }
      ]
    },
    {
      "cell_type": "code",
      "source": [
        "numberlist2 = numberlist.copy()\n",
        "print(numberlist2)"
      ],
      "metadata": {
        "colab": {
          "base_uri": "https://localhost:8080/"
        },
        "id": "-AXIDuHyUoNW",
        "outputId": "6fabc18c-d442-4af0-b5fd-3af8c246061e"
      },
      "execution_count": 24,
      "outputs": [
        {
          "output_type": "stream",
          "name": "stdout",
          "text": [
            "[6, 4, 2, 1, 3]\n"
          ]
        }
      ]
    },
    {
      "cell_type": "code",
      "source": [
        "numberlist[0] = 5\n",
        "print(numberlist)\n",
        "print(numberlist2)"
      ],
      "metadata": {
        "colab": {
          "base_uri": "https://localhost:8080/"
        },
        "id": "Hl5r41mHU8_2",
        "outputId": "7e02d697-e10f-4415-809e-aeeefe2ac917"
      },
      "execution_count": 25,
      "outputs": [
        {
          "output_type": "stream",
          "name": "stdout",
          "text": [
            "[5, 4, 2, 1, 3]\n",
            "[6, 4, 2, 1, 3]\n"
          ]
        }
      ]
    },
    {
      "cell_type": "markdown",
      "source": [
        "Write your observation about the immutable property and the difference of assigning numberlist2 to be equal to numberlist and the numberlist.copy() method."
      ],
      "metadata": {
        "id": "bZ-NowV7VMIE"
      }
    },
    {
      "cell_type": "markdown",
      "source": [
        "**Answer:** I observe that when **numberlist2** is equal to ***numberlist***, all the changes in ***numberlist*** is also the changes in **numberlist2** since they equal to each other. While when **numberlist2** is equal to **numberlist.copy()**, since its clearly declared that **numberlist2** is a copy only, all the changes in *numberlist* can't effect in **numberlist2** because they didn't equal to each other anymore, **numberlist2** has own or has a copy itself now."
      ],
      "metadata": {
        "id": "qPVEivW3VQc0"
      }
    },
    {
      "cell_type": "markdown",
      "source": [
        "**EXPLORING SOME LIST FUNCTIONS AND METHODS**"
      ],
      "metadata": {
        "id": "M2MGheKWXelc"
      }
    },
    {
      "cell_type": "code",
      "source": [
        "print(numberlist)"
      ],
      "metadata": {
        "colab": {
          "base_uri": "https://localhost:8080/"
        },
        "id": "Ul0uxZsdXUzz",
        "outputId": "a44bc20f-5644-4ac0-b167-36ba7698fdf1"
      },
      "execution_count": 26,
      "outputs": [
        {
          "output_type": "stream",
          "name": "stdout",
          "text": [
            "[5, 4, 2, 1, 3]\n"
          ]
        }
      ]
    },
    {
      "cell_type": "code",
      "source": [
        "numberlist.append(6)\n",
        "\n",
        "print(numberlist)"
      ],
      "metadata": {
        "colab": {
          "base_uri": "https://localhost:8080/"
        },
        "id": "CstEBp4GYrfw",
        "outputId": "c713aa75-3683-4931-9ebd-64ba13f7c428"
      },
      "execution_count": 28,
      "outputs": [
        {
          "output_type": "stream",
          "name": "stdout",
          "text": [
            "[5, 4, 2, 1, 3, 6, 6]\n"
          ]
        }
      ]
    },
    {
      "cell_type": "code",
      "source": [
        "numberlist.pop()\n",
        "\n",
        "print(numberlist)"
      ],
      "metadata": {
        "colab": {
          "base_uri": "https://localhost:8080/"
        },
        "id": "WiN6DpD9Y9-V",
        "outputId": "a742a80b-bf98-48cf-fd0a-18ce084458d4"
      },
      "execution_count": 29,
      "outputs": [
        {
          "output_type": "stream",
          "name": "stdout",
          "text": [
            "[5, 4, 2, 1, 3, 6]\n"
          ]
        }
      ]
    },
    {
      "cell_type": "code",
      "source": [
        "numberlist.sort()\n",
        "\n",
        "print(numberlist)"
      ],
      "metadata": {
        "colab": {
          "base_uri": "https://localhost:8080/"
        },
        "id": "hLAT5ej8ZZeW",
        "outputId": "dff10f12-3c2c-41ed-ef1b-d8de20e46ca8"
      },
      "execution_count": 30,
      "outputs": [
        {
          "output_type": "stream",
          "name": "stdout",
          "text": [
            "[1, 2, 3, 4, 5, 6]\n"
          ]
        }
      ]
    },
    {
      "cell_type": "code",
      "source": [
        "itemlist.sort"
      ],
      "metadata": {
        "colab": {
          "base_uri": "https://localhost:8080/"
        },
        "id": "VpMjtDrqag7g",
        "outputId": "bba32678-ef22-4ff7-c1f6-563ddb55d5aa"
      },
      "execution_count": 38,
      "outputs": [
        {
          "output_type": "execute_result",
          "data": {
            "text/plain": [
              "<function list.sort(*, key=None, reverse=False)>"
            ]
          },
          "metadata": {},
          "execution_count": 38
        }
      ]
    },
    {
      "cell_type": "code",
      "source": [
        "print(min(numberlist))\n",
        "print(max(numberlist))"
      ],
      "metadata": {
        "colab": {
          "base_uri": "https://localhost:8080/"
        },
        "id": "Br-or4p6Zomn",
        "outputId": "fe09598a-dc0b-46ae-d45b-fe1ade94bb19"
      },
      "execution_count": 32,
      "outputs": [
        {
          "output_type": "stream",
          "name": "stdout",
          "text": [
            "1\n",
            "6\n"
          ]
        }
      ]
    },
    {
      "cell_type": "code",
      "source": [
        "print(longlist)\n",
        "print(longlist.count(1))\n",
        "print(longlist[7].count(1))"
      ],
      "metadata": {
        "colab": {
          "base_uri": "https://localhost:8080/"
        },
        "id": "3-B2Jeuja9TY",
        "outputId": "d5b52eef-298b-443a-dec4-d872455072ea"
      },
      "execution_count": 39,
      "outputs": [
        {
          "output_type": "stream",
          "name": "stdout",
          "text": [
            "[5, 4, 2, 1, 3, 1, -2.0, [1, 2, 3], 'Word']\n",
            "2\n",
            "1\n"
          ]
        }
      ]
    },
    {
      "cell_type": "markdown",
      "source": [
        "**THE IN OPERATOR**"
      ],
      "metadata": {
        "id": "MO6eO3YVbeXN"
      }
    },
    {
      "cell_type": "code",
      "source": [
        "print(3 in longlist)\n",
        "print(15 in longlist)\n",
        "num = int(input(\"Enter a number: \"))\n",
        "if num is longlist:\n",
        "  print(\"The number is longlist\")\n",
        "else:\n",
        "  print(\"The number is not in longlist\")"
      ],
      "metadata": {
        "colab": {
          "base_uri": "https://localhost:8080/"
        },
        "id": "VnPCen6ubir2",
        "outputId": "61235a5f-e73c-4c64-e0ca-c8c9a65234c8"
      },
      "execution_count": 42,
      "outputs": [
        {
          "output_type": "stream",
          "name": "stdout",
          "text": [
            "True\n",
            "False\n",
            "Enter a number: 7\n",
            "The number is not in longlist\n"
          ]
        }
      ]
    },
    {
      "cell_type": "markdown",
      "source": [
        "Write your observations on the in operator."
      ],
      "metadata": {
        "id": "V5nwh2nDc4IN"
      }
    },
    {
      "cell_type": "markdown",
      "source": [
        "**Answer:** I observe tha In Operator is checking the the assigned value whethere it is in the value or not."
      ],
      "metadata": {
        "id": "goq4utkqdCJU"
      }
    },
    {
      "cell_type": "markdown",
      "source": [
        "**USING A LIST IN AN ITERATIVE STATEMENT**"
      ],
      "metadata": {
        "id": "WgGfgUSzebnu"
      }
    },
    {
      "cell_type": "code",
      "source": [
        "for item in longlist:\n",
        " print(item)\n",
        "\n",
        "i = 0\n",
        "while i < len(longlist):\n",
        "  print(longlist[i])\n",
        "  i+= 1"
      ],
      "metadata": {
        "colab": {
          "base_uri": "https://localhost:8080/"
        },
        "id": "tWtnmMWJejVP",
        "outputId": "e2ba6f2f-7900-451b-ed7c-e989ae49b4bf"
      },
      "execution_count": 50,
      "outputs": [
        {
          "output_type": "stream",
          "name": "stdout",
          "text": [
            "5\n",
            "4\n",
            "2\n",
            "1\n",
            "3\n",
            "1\n",
            "-2.0\n",
            "[1, 2, 3]\n",
            "Word\n",
            "5\n",
            "4\n",
            "2\n",
            "1\n",
            "3\n",
            "1\n",
            "-2.0\n",
            "[1, 2, 3]\n",
            "Word\n"
          ]
        }
      ]
    },
    {
      "cell_type": "markdown",
      "source": [
        "**STRINGS**"
      ],
      "metadata": {
        "id": "EsVPxpX5ftvv"
      }
    },
    {
      "cell_type": "code",
      "source": [
        "message = \"Hello World\"\n",
        "\n",
        "print(message)\n",
        "print(len(message))"
      ],
      "metadata": {
        "colab": {
          "base_uri": "https://localhost:8080/"
        },
        "id": "NNUa3bv1fv9X",
        "outputId": "820deaba-83f8-4106-ef78-d3e585a6e889"
      },
      "execution_count": 51,
      "outputs": [
        {
          "output_type": "stream",
          "name": "stdout",
          "text": [
            "Hello World\n",
            "11\n"
          ]
        }
      ]
    }
  ]
}
