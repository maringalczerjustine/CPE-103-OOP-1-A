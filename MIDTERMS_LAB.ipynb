{
  "nbformat": 4,
  "nbformat_minor": 0,
  "metadata": {
    "colab": {
      "provenance": [],
      "authorship_tag": "ABX9TyMlrNMziQQw1LYHBxWfafhF",
      "include_colab_link": true
    },
    "kernelspec": {
      "name": "python3",
      "display_name": "Python 3"
    },
    "language_info": {
      "name": "python"
    }
  },
  "cells": [
    {
      "cell_type": "markdown",
      "metadata": {
        "id": "view-in-github",
        "colab_type": "text"
      },
      "source": [
        "<a href=\"https://colab.research.google.com/github/maringalczerjustine/CPE-103-OOP-1-A/blob/main/MIDTERMS_LAB.ipynb\" target=\"_parent\"><img src=\"https://colab.research.google.com/assets/colab-badge.svg\" alt=\"Open In Colab\"/></a>"
      ]
    },
    {
      "cell_type": "markdown",
      "source": [
        "**I**"
      ],
      "metadata": {
        "id": "FPvuGwBubxoB"
      }
    },
    {
      "cell_type": "markdown",
      "source": [
        "1 - 10 (**D**)"
      ],
      "metadata": {
        "id": "8o8vjB9yTlIY"
      }
    },
    {
      "cell_type": "code",
      "execution_count": 2,
      "metadata": {
        "colab": {
          "base_uri": "https://localhost:8080/",
          "height": 106
        },
        "id": "xstIzCMHQEMz",
        "outputId": "9a7c112a-db0c-4ac8-811b-d561cb2aabbe"
      },
      "outputs": [
        {
          "output_type": "error",
          "ename": "SyntaxError",
          "evalue": "invalid syntax (<ipython-input-2-9a98ea9d6813>, line 7)",
          "traceback": [
            "\u001b[0;36m  File \u001b[0;32m\"<ipython-input-2-9a98ea9d6813>\"\u001b[0;36m, line \u001b[0;32m7\u001b[0m\n\u001b[0;31m    i + = 1\u001b[0m\n\u001b[0m        ^\u001b[0m\n\u001b[0;31mSyntaxError\u001b[0m\u001b[0;31m:\u001b[0m invalid syntax\n"
          ]
        }
      ],
      "source": [
        "i = 1\n",
        "while True:\n",
        "  if i%3 == 0:\n",
        "      break\n",
        "  print(i)\n",
        "\n",
        "  i + = 1"
      ]
    },
    {
      "cell_type": "markdown",
      "source": [
        "11 - 20 (**A**)"
      ],
      "metadata": {
        "id": "Tqt6f2mWUTcp"
      }
    },
    {
      "cell_type": "code",
      "source": [
        "i = 0\n",
        "while i < 5:\n",
        "  print (i)\n",
        "  i += 1\n",
        "  if i == 3:\n",
        "    break\n",
        "else:\n",
        "  print (0)"
      ],
      "metadata": {
        "colab": {
          "base_uri": "https://localhost:8080/"
        },
        "id": "8zoYYkEVUVE7",
        "outputId": "5de4ff5f-1d79-4268-88ec-b6576f2d8b2e"
      },
      "execution_count": 3,
      "outputs": [
        {
          "output_type": "stream",
          "name": "stdout",
          "text": [
            "0\n",
            "1\n",
            "2\n"
          ]
        }
      ]
    },
    {
      "cell_type": "markdown",
      "source": [
        "21 - 30 (**A**)"
      ],
      "metadata": {
        "id": "eNp9ZqK4Uw4Y"
      }
    },
    {
      "cell_type": "code",
      "source": [
        "def f1():\n",
        "  x=15\n",
        "  print(x)\n",
        "x=12\n",
        "f1()"
      ],
      "metadata": {
        "colab": {
          "base_uri": "https://localhost:8080/"
        },
        "id": "hEpV3zdpUxEp",
        "outputId": "4d9f4683-4931-4e81-d7fa-b05daaa6fc88"
      },
      "execution_count": 4,
      "outputs": [
        {
          "output_type": "stream",
          "name": "stdout",
          "text": [
            "15\n"
          ]
        }
      ]
    },
    {
      "cell_type": "markdown",
      "source": [
        "31 - 40 (**B**)"
      ],
      "metadata": {
        "id": "WItW_3rcVKjv"
      }
    },
    {
      "cell_type": "code",
      "source": [
        "class Person():\n",
        "  def __init__(self):\n",
        "    self.__name = \"Default Name\"\n",
        "\n",
        "person1 = Person()\n",
        "print(self.__name)"
      ],
      "metadata": {
        "colab": {
          "base_uri": "https://localhost:8080/",
          "height": 176
        },
        "id": "Q4Yb__UBVKrX",
        "outputId": "2df26047-87fe-4fb3-9a22-039200e25eaa"
      },
      "execution_count": 22,
      "outputs": [
        {
          "output_type": "error",
          "ename": "NameError",
          "evalue": "name 'self' is not defined",
          "traceback": [
            "\u001b[0;31m---------------------------------------------------------------------------\u001b[0m",
            "\u001b[0;31mNameError\u001b[0m                                 Traceback (most recent call last)",
            "\u001b[0;32m<ipython-input-22-d6950dff70d7>\u001b[0m in \u001b[0;36m<cell line: 0>\u001b[0;34m()\u001b[0m\n\u001b[1;32m      4\u001b[0m \u001b[0;34m\u001b[0m\u001b[0m\n\u001b[1;32m      5\u001b[0m \u001b[0mperson1\u001b[0m \u001b[0;34m=\u001b[0m \u001b[0mPerson\u001b[0m\u001b[0;34m(\u001b[0m\u001b[0;34m)\u001b[0m\u001b[0;34m\u001b[0m\u001b[0;34m\u001b[0m\u001b[0m\n\u001b[0;32m----> 6\u001b[0;31m \u001b[0mprint\u001b[0m\u001b[0;34m(\u001b[0m\u001b[0mself\u001b[0m\u001b[0;34m.\u001b[0m\u001b[0m__name\u001b[0m\u001b[0;34m)\u001b[0m\u001b[0;34m\u001b[0m\u001b[0;34m\u001b[0m\u001b[0m\n\u001b[0m",
            "\u001b[0;31mNameError\u001b[0m: name 'self' is not defined"
          ]
        }
      ]
    },
    {
      "cell_type": "markdown",
      "source": [
        "**Correct Code**"
      ],
      "metadata": {
        "id": "tYdSL99uW5k6"
      }
    },
    {
      "cell_type": "code",
      "source": [
        "class Person():\n",
        "  def __init__(self):\n",
        "    self.__name = \"Default Name\"\n",
        "\n",
        "person1 = Person()\n",
        "print(person1._Person__name)"
      ],
      "metadata": {
        "colab": {
          "base_uri": "https://localhost:8080/"
        },
        "id": "pu_NSumpW02B",
        "outputId": "2a95259e-1143-40ca-a849-7c7b1e7b9fa7"
      },
      "execution_count": 11,
      "outputs": [
        {
          "output_type": "stream",
          "name": "stdout",
          "text": [
            "Default Name\n"
          ]
        }
      ]
    },
    {
      "cell_type": "markdown",
      "source": [
        "41 - 60 (**C**)"
      ],
      "metadata": {
        "id": "mlgvC0akXDxR"
      }
    },
    {
      "cell_type": "code",
      "source": [
        "class Person():\n",
        "  def __init__(self):\n",
        "    self.__name = \"Default Name\"\n",
        "\n",
        "person1 = Person()\n",
        "person2 = Person()\n",
        "print(person1)\n",
        "print(person2)"
      ],
      "metadata": {
        "colab": {
          "base_uri": "https://localhost:8080/"
        },
        "id": "c4puQ0Y3XEJ5",
        "outputId": "dad252b2-60d6-4a03-f7d3-4adf2442f787"
      },
      "execution_count": 12,
      "outputs": [
        {
          "output_type": "stream",
          "name": "stdout",
          "text": [
            "<__main__.Person object at 0x79e61f188550>\n",
            "<__main__.Person object at 0x79e62e1963d0>\n"
          ]
        }
      ]
    },
    {
      "cell_type": "markdown",
      "source": [
        "61 - 80 (**B**)"
      ],
      "metadata": {
        "id": "plwDewMbYSR_"
      }
    },
    {
      "cell_type": "code",
      "source": [
        "class Student():\n",
        "  def __init__(self, student_number, name):\n",
        "    self.stu_number = student_number\n",
        "    self.stu_name = name\n",
        "\n",
        "class DSCOfficer(Student):\n",
        "  def __init__(self, department):\n",
        "    self.department = department\n",
        "    self.event_list = []\n",
        "\n",
        "  def initiateEvent(self, event):\n",
        "    self.event_list.append({\"name\":name})\n",
        "\n",
        "officer1 = DCSOfficer(\"CpE\")\n",
        "officer1.initiateEvent(\"Final\")\n",
        "print(officer1.event_list)"
      ],
      "metadata": {
        "colab": {
          "base_uri": "https://localhost:8080/",
          "height": 211
        },
        "id": "eeJGaj_UYTsO",
        "outputId": "012571e7-d70e-4ae4-d893-4b37d762713a"
      },
      "execution_count": 20,
      "outputs": [
        {
          "output_type": "error",
          "ename": "NameError",
          "evalue": "name 'DCSOfficer' is not defined",
          "traceback": [
            "\u001b[0;31m---------------------------------------------------------------------------\u001b[0m",
            "\u001b[0;31mNameError\u001b[0m                                 Traceback (most recent call last)",
            "\u001b[0;32m<ipython-input-20-07f033c32b36>\u001b[0m in \u001b[0;36m<cell line: 0>\u001b[0;34m()\u001b[0m\n\u001b[1;32m     12\u001b[0m     \u001b[0mself\u001b[0m\u001b[0;34m.\u001b[0m\u001b[0mevent_list\u001b[0m\u001b[0;34m.\u001b[0m\u001b[0mappend\u001b[0m\u001b[0;34m(\u001b[0m\u001b[0;34m{\u001b[0m\u001b[0;34m\"name\"\u001b[0m\u001b[0;34m:\u001b[0m\u001b[0mname\u001b[0m\u001b[0;34m}\u001b[0m\u001b[0;34m)\u001b[0m\u001b[0;34m\u001b[0m\u001b[0;34m\u001b[0m\u001b[0m\n\u001b[1;32m     13\u001b[0m \u001b[0;34m\u001b[0m\u001b[0m\n\u001b[0;32m---> 14\u001b[0;31m \u001b[0mofficer1\u001b[0m \u001b[0;34m=\u001b[0m \u001b[0mDCSOfficer\u001b[0m\u001b[0;34m(\u001b[0m\u001b[0;34m\"CpE\"\u001b[0m\u001b[0;34m)\u001b[0m\u001b[0;34m\u001b[0m\u001b[0;34m\u001b[0m\u001b[0m\n\u001b[0m\u001b[1;32m     15\u001b[0m \u001b[0mofficer1\u001b[0m\u001b[0;34m.\u001b[0m\u001b[0minitiateEvent\u001b[0m\u001b[0;34m(\u001b[0m\u001b[0;34m\"Final\"\u001b[0m\u001b[0;34m)\u001b[0m\u001b[0;34m\u001b[0m\u001b[0;34m\u001b[0m\u001b[0m\n\u001b[1;32m     16\u001b[0m \u001b[0mprint\u001b[0m\u001b[0;34m(\u001b[0m\u001b[0mofficer1\u001b[0m\u001b[0;34m.\u001b[0m\u001b[0mevent_list\u001b[0m\u001b[0;34m)\u001b[0m\u001b[0;34m\u001b[0m\u001b[0;34m\u001b[0m\u001b[0m\n",
            "\u001b[0;31mNameError\u001b[0m: name 'DCSOfficer' is not defined"
          ]
        }
      ]
    },
    {
      "cell_type": "markdown",
      "source": [
        "**Correction**"
      ],
      "metadata": {
        "id": "vtZL-okgblIJ"
      }
    },
    {
      "cell_type": "code",
      "source": [
        "class Student():\n",
        "  def __init__(self, student_number, name):\n",
        "    self.stu_number = student_number\n",
        "    self.stu_name = name\n",
        "\n",
        "class DSCOfficer(Student):\n",
        "  def __init__(self, department):\n",
        "    super().__init__(None, None) # Call the superclass's __init__\n",
        "    self.department = department\n",
        "    self.event_list = []\n",
        "\n",
        "  def initiateEvent(self, name):\n",
        "    self.event_list.append({\"name\":name})\n",
        "\n",
        "officer1 = DSCOfficer(\"CpE\")\n",
        "officer1.initiateEvent(\"General Assembly\")\n",
        "print(officer1.event_list)\n"
      ],
      "metadata": {
        "colab": {
          "base_uri": "https://localhost:8080/"
        },
        "id": "J0qEwSsBavF8",
        "outputId": "93053235-af3a-4282-fa1a-5a7582647224"
      },
      "execution_count": 21,
      "outputs": [
        {
          "output_type": "stream",
          "name": "stdout",
          "text": [
            "[{'name': 'General Assembly'}]\n"
          ]
        }
      ]
    },
    {
      "cell_type": "markdown",
      "source": [
        "**II. TRUE OR FALSE**"
      ],
      "metadata": {
        "id": "mmOjAf7vb3Yp"
      }
    },
    {
      "cell_type": "markdown",
      "source": [
        "\n",
        "\n",
        "1. If we wanted to only make accessible the relevant methods and attributes to other programmers that will be using our class, we will be implementing Encapsulation.\n",
        "2. If we wanted to restrict access to datea and methods in the class, we will be implementing Abstraction.\n",
        "3. Abstraction allows the developer to abstract complex functionality from other programmers by instead showing only the methods and attributes that other programmers will need thereby reducing the complexity of implementation.\n",
        "4. Encapsulation allows you to hide and restrict access to attributes amd methods that other programmers do not need to access.\n",
        "5. The constructor function is defined with the keyword __init__\n",
        "6. A method is a subroutine defined within a class to implement a behavior. This subroutine can also be referred to as funtion within a class.\n",
        "7. In object oriented programming an object is composed of two main parts: Its class and methods.\n",
        "8. A constructor function may or may not be added to a class as it it added automatically by default.\n",
        "9. A class is a template or blueprint from which objects can be instantiated fomr.\n",
        "10. Constructors are used ti initialize an object.\n",
        "\n",
        "\n",
        "\n"
      ],
      "metadata": {
        "id": "Augp1ZmZf7zK"
      }
    },
    {
      "cell_type": "markdown",
      "source": [
        "**ANSWER**"
      ],
      "metadata": {
        "id": "mSxFeNVUjApi"
      }
    },
    {
      "cell_type": "markdown",
      "source": [
        "1. T\n",
        "2. F\n",
        "3. T\n",
        "4. T\n",
        "5. T\n",
        "6. T\n",
        "7. F\n",
        "8. F\n",
        "9. T\n",
        "10. T"
      ],
      "metadata": {
        "id": "aYsYrN8-jD6Q"
      }
    }
  ]
}