{
  "nbformat": 4,
  "nbformat_minor": 0,
  "metadata": {
    "colab": {
      "provenance": [],
      "authorship_tag": "ABX9TyOokPpXjqXx//c7H2uGCXt5",
      "include_colab_link": true
    },
    "kernelspec": {
      "name": "python3",
      "display_name": "Python 3"
    },
    "language_info": {
      "name": "python"
    }
  },
  "cells": [
    {
      "cell_type": "markdown",
      "metadata": {
        "id": "view-in-github",
        "colab_type": "text"
      },
      "source": [
        "<a href=\"https://colab.research.google.com/github/maringalczerjustine/CPE-103-OOP-1-A/blob/main/OOPIntro_Maringal.ipynb\" target=\"_parent\"><img src=\"https://colab.research.google.com/assets/colab-badge.svg\" alt=\"Open In Colab\"/></a>"
      ]
    },
    {
      "cell_type": "markdown",
      "source": [
        "CREATING CLASSES"
      ],
      "metadata": {
        "id": "XG1FRMjv8_SV"
      }
    },
    {
      "cell_type": "markdown",
      "source": [
        "Accounts.py"
      ],
      "metadata": {
        "id": "igQD9v6fsIGg"
      }
    },
    {
      "cell_type": "code",
      "source": [
        "\"\"\"\n",
        "    Accounts.py\n",
        "\"\"\"\n",
        "\n",
        "class Accounts(): # create the class\n",
        "    account_number = 0\n",
        "    account_firstname = \"\"\n",
        "    account_lastname = \"\"\n",
        "    current_balance = 0.0\n",
        "    address = \"\"\n",
        "    email = \"\"\n",
        "\n",
        "    def update_address(self, new_address):\n",
        "        self.address = new_address\n",
        "\n",
        "    def update_email(self, new_email):\n",
        "        self.email = new_email"
      ],
      "metadata": {
        "id": "oSdc_tnssHcD"
      },
      "execution_count": 1,
      "outputs": []
    },
    {
      "cell_type": "markdown",
      "source": [
        "ATM.py"
      ],
      "metadata": {
        "id": "mHNy-y0vLyzT"
      }
    },
    {
      "cell_type": "code",
      "source": [
        "\"\"\"\n",
        "    ATM.py\n",
        "\"\"\"\n",
        "\n",
        "class ATM():\n",
        "    serial_number = 0\n",
        "\n",
        "    def deposit(self, account, amount):\n",
        "        account.current_balance = account.current_balance + amount\n",
        "        print(\"Deposit Complete\")\n",
        "\n",
        "    def withdraw(self, account, amount):\n",
        "        account.current_balance = account.current_balance - amount\n",
        "        print(\"Withdraw Complete\")\n",
        "\n",
        "    def check_currentbalance(self, account):\n",
        "        print(account.current_balance)"
      ],
      "metadata": {
        "id": "ZFSFxZieLyg7"
      },
      "execution_count": 2,
      "outputs": []
    },
    {
      "cell_type": "markdown",
      "source": [
        "CREATING INSTANCES OF CLASSES"
      ],
      "metadata": {
        "id": "d79gd8IyAFT4"
      }
    },
    {
      "cell_type": "markdown",
      "source": [
        "main.py"
      ],
      "metadata": {
        "id": "C33DgQ-VGaGe"
      }
    },
    {
      "cell_type": "code",
      "source": [
        "\"\"\"\n",
        "    main.py\n",
        "\"\"\"\n",
        "\n",
        "\n",
        "Account1 = Accounts() #create the instance/object\n",
        "\n",
        "print(\"Account 1\")\n",
        "Account1.account_firstname = \"Royce\"\n",
        "Account1.account_lastname = \"Chua\"\n",
        "Account1.current_balance = 1000\n",
        "Account1.address = \"Silver Street Quezon City\"\n",
        "Account1.email = \"roychua123@gmail.com\"\n",
        "\n",
        "print(Account1.account_firstname)\n",
        "print(Account1.account_lastname)\n",
        "print(Account1.current_balance)\n",
        "print(Account1.address)\n",
        "print(Account1.email)\n",
        "\n",
        "print()\n",
        "\n",
        "Account2 = Accounts()\n",
        "Account2.account_firstname = \"John\"\n",
        "Account2.account_lastname = \"Doe\"\n",
        "Account2.current_balance = 2000\n",
        "Account2.address = \"Golden Street Quezon City\"\n",
        "Account2.email = \"johndoe@yahoo.com\"\n",
        "\n",
        "print(\"Account 2\")\n",
        "print(Account2.account_firstname)\n",
        "print(Account2.account_lastname)\n",
        "print(Account2.current_balance)\n",
        "print(Account2.address)\n",
        "print(Account2.email)"
      ],
      "metadata": {
        "colab": {
          "base_uri": "https://localhost:8080/"
        },
        "id": "A7yHujDBJq6S",
        "outputId": "f38e6b19-59fb-48bd-cc44-f137414f0191"
      },
      "execution_count": 8,
      "outputs": [
        {
          "output_type": "stream",
          "name": "stdout",
          "text": [
            "Account 1\n",
            "Royce\n",
            "Chua\n",
            "1000\n",
            "Silver Street Quezon City\n",
            "roychua123@gmail.com\n",
            "\n",
            "Account 2\n",
            "John\n",
            "Doe\n",
            "2000\n",
            "Golden Street Quezon City\n",
            "johndoe@yahoo.com\n"
          ]
        }
      ]
    },
    {
      "cell_type": "code",
      "source": [
        "\"\"\"\n",
        "    main.py\n",
        "\"\"\"\n",
        "\n",
        "Account1 = Accounts() #create the instance/object\n",
        "\n",
        "print(\"Account 1\")\n",
        "Account1.account_firstname = \"Royce\"\n",
        "Account1.account_lastname = \"Chua\"\n",
        "Account1.current_balance = 1000\n",
        "Account1.address = \"Silver Street Quezon City\"\n",
        "Account1.email = \"roychua123@gmail.com\"\n",
        "\n",
        "print(Account1.account_firstname)\n",
        "print(Account1.account_lastname)\n",
        "print(Account1.current_balance)\n",
        "print(Account1.address)\n",
        "print(Account1.email)\n",
        "\n",
        "print()\n",
        "\n",
        "Account2 = Accounts()\n",
        "Account2.account_firstname = \"John\"\n",
        "Account2.account_lastname = \"Doe\"\n",
        "Account2.current_balance = 2000\n",
        "Account2.address = \"Golden Street Quezon City\"\n",
        "Account2.email = \"johndoe@yahoo.com\"\n",
        "\n",
        "print(\"Account 2\")\n",
        "print(Account2.account_firstname)\n",
        "print(Account2.account_lastname)\n",
        "print(Account2.current_balance)\n",
        "print(Account2.address)\n",
        "print(Account2.email)\n",
        "\n",
        "#creating and using ATM Object\n",
        "ATM1 = ATM()\n",
        "ATM1.deposit(Account1,500)\n",
        "ATM1.check_currentbalance(Account1)\n",
        "\n",
        "ATM1.deposit(Account2,300)\n",
        "ATM1.check_currentbalance(Account2)"
      ],
      "metadata": {
        "id": "LA4kkgfF25n2",
        "outputId": "5c6c6c6f-2b62-48ea-800b-e20ede6e07ac",
        "colab": {
          "base_uri": "https://localhost:8080/"
        }
      },
      "execution_count": 9,
      "outputs": [
        {
          "output_type": "stream",
          "name": "stdout",
          "text": [
            "Account 1\n",
            "Royce\n",
            "Chua\n",
            "1000\n",
            "Silver Street Quezon City\n",
            "roychua123@gmail.com\n",
            "\n",
            "Account 2\n",
            "John\n",
            "Doe\n",
            "2000\n",
            "Golden Street Quezon City\n",
            "johndoe@yahoo.com\n",
            "Deposit Complete\n",
            "1500\n",
            "Deposit Complete\n",
            "2300\n"
          ]
        }
      ]
    },
    {
      "cell_type": "markdown",
      "source": [
        "CREATE THE CONSTRUCTION IN EACH CLASS"
      ],
      "metadata": {
        "id": "gWorAa3l_1D9"
      }
    },
    {
      "cell_type": "markdown",
      "source": [
        "Accounts.py"
      ],
      "metadata": {
        "id": "IUOU04E6-4he"
      }
    },
    {
      "cell_type": "code",
      "source": [
        "\"\"\"\n",
        "    Accounts.py\n",
        "\"\"\"\n",
        "\n",
        "class Accounts(): # create the class\n",
        "  def __init__(self, account_number, account_firstname, account_lastname, current_balance, address, email):\n",
        "    self.account_number = account_number\n",
        "    self.account_firstname = account_firstname\n",
        "    self.account_lastname = account_lastname\n",
        "    self.current_balance = current_balance\n",
        "    self.address = address\n",
        "    self.email = email\n",
        "\n",
        "    def update_address(self, new_address):\n",
        "        self.address = new_address\n",
        "\n",
        "    def update_email(self, new_email):\n",
        "        self.email = new_email"
      ],
      "metadata": {
        "id": "v1Tmag6D-2Mm"
      },
      "execution_count": 10,
      "outputs": []
    },
    {
      "cell_type": "markdown",
      "source": [
        "ATM.py"
      ],
      "metadata": {
        "id": "922Fz9sQAVvw"
      }
    },
    {
      "cell_type": "code",
      "source": [
        "\"\"\"\n",
        "    ATM.py\n",
        "\"\"\"\n",
        "\n",
        "class ATM():\n",
        "    serial_number = 0\n",
        "\n",
        "    def deposit(self, account, amount):\n",
        "        account.current_balance = account.current_balance + amount\n",
        "        print(\"\\nDeposit Complete\")\n",
        "\n",
        "    def withdraw(self, account, amount):\n",
        "        account.current_balance = account.current_balance - amount\n",
        "        print(\"\\nWithdraw Complete\")\n",
        "\n",
        "    def check_currentbalance(self, account):\n",
        "        print(account.current_balance)"
      ],
      "metadata": {
        "id": "CTLWGOVnAacc"
      },
      "execution_count": 15,
      "outputs": []
    },
    {
      "cell_type": "markdown",
      "source": [
        "main.py"
      ],
      "metadata": {
        "id": "WeEGNQpiAw6s"
      }
    },
    {
      "cell_type": "code",
      "source": [
        "\"\"\"\n",
        "    main.py\n",
        "\"\"\"\n",
        "\n",
        "Account1 = Accounts(account_number= 123456, account_firstname= \"Royce\",\n",
        "                             account_lastname= \"Chua\", current_balance = 1000,\n",
        "                             address = \"Silver Street Quezon City\",\n",
        "                             email = \"roychua123@gmail.com\")\n",
        "\n",
        "print(\"Account 1\")\n",
        "print(Account1.account_firstname)\n",
        "print(Account1.account_lastname)\n",
        "print(Account1.current_balance)\n",
        "print(Account1.address)\n",
        "print(Account1.email)\n",
        "\n",
        "print()\n",
        "\n",
        "Account2 = Accounts(account_number= 123456, account_firstname= \"John\",\n",
        "                             account_lastname= \"Doe\", current_balance = 2000,\n",
        "                             address = \"Golden Street Quezon City\",\n",
        "                             email = \"johndoe@yahoo.com\")\n",
        "\n",
        "print(\"Account 2\")\n",
        "print(Account2.account_firstname)\n",
        "print(Account2.account_lastname)\n",
        "print(Account2.current_balance)\n",
        "print(Account2.address)\n",
        "print(Account2.email)\n",
        "\n",
        "#creating and using ATM Object\n",
        "ATM1 = ATM()\n",
        "ATM1.deposit(Account1,500)\n",
        "ATM1.check_currentbalance(Account1)\n",
        "\n",
        "ATM1.deposit(Account2,300)\n",
        "ATM1.check_currentbalance(Account2)"
      ],
      "metadata": {
        "id": "uI6pwcnrAwq_",
        "outputId": "8fc988a1-0572-4d70-bc3e-9aa62fe7539b",
        "colab": {
          "base_uri": "https://localhost:8080/"
        }
      },
      "execution_count": 16,
      "outputs": [
        {
          "output_type": "stream",
          "name": "stdout",
          "text": [
            "Account 1\n",
            "Royce\n",
            "Chua\n",
            "1000\n",
            "Silver Street Quezon City\n",
            "roychua123@gmail.com\n",
            "\n",
            "Account 2\n",
            "John\n",
            "Doe\n",
            "2000\n",
            "Golden Street Quezon City\n",
            "johndoe@yahoo.com\n",
            "\n",
            "Deposit Complete\n",
            "1500\n",
            "\n",
            "Deposit Complete\n",
            "2300\n"
          ]
        }
      ]
    },
    {
      "cell_type": "markdown",
      "source": [
        "SUPPLEMENTARY TASK"
      ],
      "metadata": {
        "id": "RQQQA3rwHTG0"
      }
    },
    {
      "cell_type": "markdown",
      "source": [
        "1.\tModify the ATM.py program and add the constructor function.\n",
        "2.\tModify the main.py program and initialize the ATM machine with any integer serial number combination and display the serial number at the end of the program.\n",
        "3.\tModify the ATM.py program and add the view_transactionsummary() method. The method should display all the transaction made in the ATM object.\n"
      ],
      "metadata": {
        "id": "nn25N6atHYYf"
      }
    },
    {
      "cell_type": "code",
      "source": [
        "\"\"\"\n",
        "    ATM.py\n",
        "\"\"\"\n",
        "\n",
        "class ATM():\n",
        "    def __init__(self, serial_number):\n",
        "        self.serial_number = serial_number\n",
        "        self.transactions = []\n",
        "\n",
        "    def deposit(self, account, amount):\n",
        "        account.current_balance = account.current_balance + amount\n",
        "        self.transactions.append(f\"Deposit: {amount} to account {account.account_number}\")\n",
        "        print(\"\\nDeposit Complete\")\n",
        "\n",
        "    def withdraw(self, account, amount):\n",
        "        account.current_balance = account.current_balance - amount\n",
        "        self.transactions.append(f\"Withdrawal: {amount} from account {account.account_number}\")\n",
        "        print(\"\\nWithdraw Complete\")\n",
        "\n",
        "    def check_currentbalance(self, account):\n",
        "        print(account.current_balance)\n",
        "\n",
        "    def view_transactionsummary(self):\n",
        "        print(\"\\nTransaction Summary:\")\n",
        "        for transaction in self.transactions:\n",
        "            print(transaction)\n",
        "# main.py\n",
        "\"\"\"\n",
        "    main.py\n",
        "\"\"\"\n",
        "\n",
        "Account1 = Accounts(account_number= 123456, account_firstname= \"Royce\",\n",
        "                             account_lastname= \"Chua\", current_balance = 1000,\n",
        "                             address = \"Silver Street Quezon City\",\n",
        "                             email = \"roychua123@gmail.com\")\n",
        "\n",
        "print(\"Account 1\")\n",
        "print(Account1.account_firstname)\n",
        "print(Account1.account_lastname)\n",
        "print(Account1.current_balance)\n",
        "print(Account1.address)\n",
        "print(Account1.email)\n",
        "\n",
        "print()\n",
        "\n",
        "Account2 = Accounts(account_number= 789012, account_firstname= \"John\",\n",
        "                             account_lastname= \"Doe\", current_balance = 2000,\n",
        "                             address = \"Golden Street Quezon City\",\n",
        "                             email = \"johndoe@yahoo.com\")\n",
        "\n",
        "print(\"Account 2\")\n",
        "print(Account2.account_firstname)\n",
        "print(Account2.account_lastname)\n",
        "print(Account2.current_balance)\n",
        "print(Account2.address)\n",
        "print(Account2.email)\n",
        "\n",
        "#creating and using ATM Object\n",
        "ATM1 = ATM(serial_number = 1234) # Initialize ATM with serial number\n",
        "ATM1.deposit(Account1,500)\n",
        "ATM1.check_currentbalance(Account1)\n",
        "\n",
        "ATM1.withdraw(Account2,300)\n",
        "ATM1.check_currentbalance(Account2)\n",
        "\n",
        "ATM1.view_transactionsummary() # Display transaction summary\n",
        "print(f\"\\nATM Serial Number: {ATM1.serial_number}\")"
      ],
      "metadata": {
        "id": "gF1CDPoeHY3t",
        "outputId": "aa9787e5-c817-4769-f9fb-c51c14f0e78d",
        "colab": {
          "base_uri": "https://localhost:8080/"
        }
      },
      "execution_count": 21,
      "outputs": [
        {
          "output_type": "stream",
          "name": "stdout",
          "text": [
            "Account 1\n",
            "Royce\n",
            "Chua\n",
            "1000\n",
            "Silver Street Quezon City\n",
            "roychua123@gmail.com\n",
            "\n",
            "Account 2\n",
            "John\n",
            "Doe\n",
            "2000\n",
            "Golden Street Quezon City\n",
            "johndoe@yahoo.com\n",
            "\n",
            "Deposit Complete\n",
            "1500\n",
            "\n",
            "Withdraw Complete\n",
            "1700\n",
            "\n",
            "Transaction Summary:\n",
            "Deposit: 500 to account 123456\n",
            "Withdrawal: 300 from account 789012\n",
            "\n",
            "ATM Serial Number: 1234\n"
          ]
        }
      ]
    }
  ]
}