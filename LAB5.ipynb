{
  "nbformat": 4,
  "nbformat_minor": 0,
  "metadata": {
    "colab": {
      "provenance": [],
      "authorship_tag": "ABX9TyMdEHQrHYj5PNBDB6BHS8Mf",
      "include_colab_link": true
    },
    "kernelspec": {
      "name": "python3",
      "display_name": "Python 3"
    },
    "language_info": {
      "name": "python"
    }
  },
  "cells": [
    {
      "cell_type": "markdown",
      "metadata": {
        "id": "view-in-github",
        "colab_type": "text"
      },
      "source": [
        "<a href=\"https://colab.research.google.com/github/maringalczerjustine/CPE-103-OOP-1-A/blob/main/LAB5.ipynb\" target=\"_parent\"><img src=\"https://colab.research.google.com/assets/colab-badge.svg\" alt=\"Open In Colab\"/></a>"
      ]
    },
    {
      "cell_type": "code",
      "execution_count": null,
      "metadata": {
        "colab": {
          "base_uri": "https://localhost:8080/"
        },
        "id": "inR5t4GFWv5S",
        "outputId": "4b5972c0-d4bb-4064-f184-ad4e7c59b775"
      },
      "outputs": [
        {
          "output_type": "stream",
          "name": "stdout",
          "text": [
            "Propositional logic evaluator for discrete math\n",
            "How many variables? 2\n",
            "Enter the propositional logic expression: B\n",
            "A B f\n",
            "0 0 0\n",
            "0 1 1\n",
            "1 0 0\n",
            "1 1 1\n"
          ]
        }
      ],
      "source": [
        "# Propositional Logic evaluator for discrete math for 2-3 variables\n",
        "print (\"Propositional logic evaluator for discrete math\")\n",
        "variables = int(input(\"How many variables? \"))\n",
        "total_combinations = 2 ** variables\n",
        "\n",
        "combinations_list = [] # store all the possible combinations\n",
        "\n",
        "# generate the combinations\n",
        "for i in range(total_combinations):\n",
        "    bin_equivalent = bin(i) [2:]\n",
        "    while len(bin_equivalent)<variables:\n",
        "        bin_equivalent=\"0\"+bin_equivalent\n",
        "    combinations_list.append(tuple(int(val) for val in bin_equivalent))\n",
        "    # this will generate a list with values [(0,0),(0,1),(1,0),(1,1)]\n",
        "    # for two variables\n",
        "\n",
        "# main program\n",
        "expression = input(\"Enter the propositional logic expression: \")\n",
        "# note: Only the Letters A, B, and C are allowed to be used\n",
        "# example: not(A and B) or (A and C)\n",
        "if variables == 2:\n",
        "    print(\"A B f\")\n",
        "    for A,B in combinations_list:\n",
        "        evaluated_expression = eval(expression)\n",
        "        print(A,B, evaluated_expression)\n",
        "elif variables == 3:\n",
        "    print(\"A B C f\")\n",
        "    for A,B,C in combinations_list:\n",
        "        evaluated_expression = eval(expression)\n",
        "        print(A,B,C, evaluated_expression)"
      ]
    },
    {
      "cell_type": "code",
      "source": [
        "name = \"Royce Chua\"\n",
        "file = open(\"newfile1.txt\",\"w\")\n",
        "file.write(f\"Hello, {name}!\\n\")\n",
        "file.write(\"Isn't this amazing!\\n\")\n",
        "file.write(\"that we can create and write on text files\\n\")\n",
        "file.write(\"using Python.\")\n",
        "file.close()"
      ],
      "metadata": {
        "id": "Y0TvRdGYN2e5"
      },
      "execution_count": null,
      "outputs": []
    },
    {
      "cell_type": "code",
      "source": [
        "file = open(\"newfile1.txt\", \"r\")\n",
        "data = file.read()\n",
        "print(data)\n",
        "file.close()"
      ],
      "metadata": {
        "colab": {
          "base_uri": "https://localhost:8080/"
        },
        "id": "-mgigqvsXxip",
        "outputId": "3706a0bd-43b2-4b93-b045-e2d4ac93ac85"
      },
      "execution_count": null,
      "outputs": [
        {
          "output_type": "stream",
          "name": "stdout",
          "text": [
            "Hello, Royce Chua!\n",
            "Isn't this amazing!\n",
            "that we can create and write on text files\n",
            "using Python.\n"
          ]
        }
      ]
    },
    {
      "cell_type": "code",
      "source": [
        "proglanguage = \"Python\"\n",
        "file = open(\"newfile2.txt\", \"w\")\n",
        "file.write(f\"This message was created using {proglanguage}!\")\n",
        "file.close()"
      ],
      "metadata": {
        "id": "OGAjc8U6YvVq"
      },
      "execution_count": null,
      "outputs": []
    },
    {
      "cell_type": "code",
      "source": [
        "file = open(\"newfile2.txt\", \"r\")\n",
        "data = file.read(12)\n",
        "print(data)\n",
        "file.close()"
      ],
      "metadata": {
        "colab": {
          "base_uri": "https://localhost:8080/"
        },
        "id": "AbPqmFaqYAHs",
        "outputId": "026187fc-bc1f-45a6-da4c-056eccf42a6b"
      },
      "execution_count": null,
      "outputs": [
        {
          "output_type": "stream",
          "name": "stdout",
          "text": [
            "This message\n"
          ]
        }
      ]
    },
    {
      "cell_type": "code",
      "source": [
        "file = open(\"newfile3.txt\", \"w\")\n",
        "file.write = \"and also by the programmer of course.\"\n",
        "file.close()"
      ],
      "metadata": {
        "id": "vKwRiVbGbqoB"
      },
      "execution_count": null,
      "outputs": []
    },
    {
      "cell_type": "code",
      "source": [
        "def generate_truthable(number_of_variables):\n",
        "  total_combinations = 2 ** number_of_variables\n",
        "  combinations_list = []\n",
        "  for i in range (total_combinations):\n",
        "    bin_equivalent = bin(i)[2:]\n",
        "    while len(bin_equivalent) < number_of_variables:\n",
        "      bin_equivalent = \"0\" + bin_equivalent\n",
        "    combinations_list.append(tuple(int(val) for val in bin_equivalent))\n",
        "  return combinations_list\n",
        "\n",
        "print(generate_truthable(3))"
      ],
      "metadata": {
        "colab": {
          "base_uri": "https://localhost:8080/"
        },
        "id": "yNb_mpUqP6Bw",
        "outputId": "f180bb6d-e6c8-431c-ec2b-fe6e557bee80"
      },
      "execution_count": 1,
      "outputs": [
        {
          "output_type": "stream",
          "name": "stdout",
          "text": [
            "[(0, 0, 0), (0, 0, 1), (0, 1, 0), (0, 1, 1), (1, 0, 0), (1, 0, 1), (1, 1, 0), (1, 1, 1)]\n"
          ]
        }
      ]
    },
    {
      "cell_type": "code",
      "source": [
        "def generate_truthtable(number_of_variables=0):\n",
        "    if number_of_variables == 0:\n",
        "        return \"You need to enter an integer\"\n",
        "    else:\n",
        "        total_combinations = 2 ** number_of_variables\n",
        "        combinations_list = []\n",
        "        for i in range(total_combinations):\n",
        "            bin_equivalent = bin(i)[2:]\n",
        "            while len(bin_equivalent) < number_of_variables:\n",
        "                bin_equivalent = \"0\" + bin_equivalent\n",
        "            combinations_list.append(tuple(int(val) for val in bin_equivalent))\n",
        "        return combinations_list"
      ],
      "metadata": {
        "id": "JhfSnQ5OP7ub"
      },
      "execution_count": 3,
      "outputs": []
    },
    {
      "cell_type": "code",
      "source": [
        "import math\n",
        "\n",
        "def quadratic_formula(a, b, c):\n",
        "    if b**2 - (4*a*c) < 0:\n",
        "        x1 = (complex(-b, math.floor(math.sqrt(abs(b**2 - (4*a*c)))))) / (2*a)\n",
        "        x2 = (complex(-b, -1 * math.floor(math.sqrt(abs(b**2 - (4*a*c)))))) / (2*a)\n",
        "        return x1, x2\n",
        "    else:\n",
        "        x1 = (-b + math.sqrt(b**2 - (4*a*c))) / (2*a)\n",
        "        x2 = (-b - math.sqrt(b**2 - (4*a*c))) / (2*a)\n",
        "        return x1, x2\n",
        "\n",
        "print(quadratic_formula(1, 2, 3))"
      ],
      "metadata": {
        "colab": {
          "base_uri": "https://localhost:8080/"
        },
        "id": "R7fvLOQvQBvo",
        "outputId": "430b1df8-afe1-40a2-c02e-7a5f1f279e2b"
      },
      "execution_count": 2,
      "outputs": [
        {
          "output_type": "stream",
          "name": "stdout",
          "text": [
            "((-1+1j), (-1-1j))\n"
          ]
        }
      ]
    },
    {
      "cell_type": "code",
      "source": [
        "import math\n",
        "\n",
        "def angle_demo():\n",
        "    angle = math.sin(math.pi / 2)\n",
        "    print(angle)\n",
        "\n",
        "    # to make it convenient, convert to radians\n",
        "    angle = math.sin(math.radians(90))\n",
        "    print(angle)\n",
        "\n",
        "    # this is also similar for cosine and other trigonometric and\n",
        "    # hyperbolic functions\n",
        "\n",
        "angle_demo()"
      ],
      "metadata": {
        "colab": {
          "base_uri": "https://localhost:8080/"
        },
        "id": "DWFjzmmsQImF",
        "outputId": "5fe1e088-4f82-4794-cc6a-486c87232cdb"
      },
      "execution_count": 4,
      "outputs": [
        {
          "output_type": "stream",
          "name": "stdout",
          "text": [
            "1.0\n",
            "1.0\n"
          ]
        }
      ]
    },
    {
      "cell_type": "code",
      "source": [
        "import time\n",
        "\n",
        "def pause():\n",
        "  for i in range (10, 0, -1):\n",
        "    print(f\"The program will end in {i}..\")\n",
        "    time.sleep(1)\n",
        "\n",
        "pause()"
      ],
      "metadata": {
        "colab": {
          "base_uri": "https://localhost:8080/"
        },
        "id": "L78ikJTjQMzG",
        "outputId": "3438d35d-9e10-40f3-c69d-5a7caccd0fa5"
      },
      "execution_count": 5,
      "outputs": [
        {
          "output_type": "stream",
          "name": "stdout",
          "text": [
            "The program will end in 10..\n",
            "The program will end in 9..\n",
            "The program will end in 8..\n",
            "The program will end in 7..\n",
            "The program will end in 6..\n",
            "The program will end in 5..\n",
            "The program will end in 4..\n",
            "The program will end in 3..\n",
            "The program will end in 2..\n",
            "The program will end in 1..\n"
          ]
        }
      ]
    },
    {
      "cell_type": "code",
      "source": [
        "def current_time():\n",
        "  t = time.strftime(\"%I:%M %p\")\n",
        "  return t\n",
        "\n",
        "print(current_time())"
      ],
      "metadata": {
        "colab": {
          "base_uri": "https://localhost:8080/"
        },
        "id": "RPvWAxCQQYBs",
        "outputId": "3aef392a-55ee-4034-a905-3203ce3d12a2"
      },
      "execution_count": 6,
      "outputs": [
        {
          "output_type": "stream",
          "name": "stdout",
          "text": [
            "03:47 AM\n"
          ]
        }
      ]
    },
    {
      "cell_type": "code",
      "source": [
        "import time\n",
        "\n",
        "def current_time():\n",
        "  d = time.strftime(\"%b %d %Y\")\n",
        "  return d\n",
        "\n",
        "print(current_time())"
      ],
      "metadata": {
        "colab": {
          "base_uri": "https://localhost:8080/"
        },
        "id": "AsXtXW2LQcgy",
        "outputId": "f185f39a-48ca-476d-a6c6-273d2fcd6988"
      },
      "execution_count": 7,
      "outputs": [
        {
          "output_type": "stream",
          "name": "stdout",
          "text": [
            "May 03 2025\n"
          ]
        }
      ]
    },
    {
      "cell_type": "code",
      "source": [
        "import datetime\n",
        "\n",
        "print(\"The current time is\", datetime.datetime.now())\n"
      ],
      "metadata": {
        "colab": {
          "base_uri": "https://localhost:8080/"
        },
        "id": "2fEHG78qQy1a",
        "outputId": "ec0a9383-a326-4bda-ad26-9fdcda2b588d"
      },
      "execution_count": 9,
      "outputs": [
        {
          "output_type": "stream",
          "name": "stdout",
          "text": [
            "The current time is 2025-05-03 03:49:53.179872\n"
          ]
        }
      ]
    },
    {
      "cell_type": "code",
      "source": [
        "import time\n",
        "\n",
        "def pause():\n",
        "    for i in range(10, 0, -1):\n",
        "        print(f\"The program will end in {i}..\")\n",
        "        time.sleep(1)\n",
        "\n",
        "pause()\n",
        "\n",
        "def current_time():\n",
        "    t = time.strftime(\"%I:%M %p\")\n",
        "    return t\n",
        "\n",
        "print(current_time())\n",
        "\n",
        "def current_date():\n",
        "    d = time.strftime(\"%b %d %Y\")\n",
        "    return d\n",
        "\n",
        "print(current_date())"
      ],
      "metadata": {
        "colab": {
          "base_uri": "https://localhost:8080/"
        },
        "id": "6yu0sN4xQ0so",
        "outputId": "d5b87d91-3e31-4e86-a589-5f26bca64914"
      },
      "execution_count": 8,
      "outputs": [
        {
          "output_type": "stream",
          "name": "stdout",
          "text": [
            "The program will end in 10..\n",
            "The program will end in 9..\n",
            "The program will end in 8..\n",
            "The program will end in 7..\n",
            "The program will end in 6..\n",
            "The program will end in 5..\n",
            "The program will end in 4..\n",
            "The program will end in 3..\n",
            "The program will end in 2..\n",
            "The program will end in 1..\n",
            "03:49 AM\n",
            "May 03 2025\n"
          ]
        }
      ]
    },
    {
      "cell_type": "code",
      "source": [
        "from datetime import datetime\n",
        "\n",
        "def current_time():\n",
        "    return datetime.now().strftime(\"%I:%M %p\")\n",
        "\n",
        "def current_date():\n",
        "    return datetime.now().strftime(\"%b %d %Y\")\n",
        "\n",
        "\n",
        "print(\"The current time is\", current_time())\n",
        "print(\"The current date is\", current_date())"
      ],
      "metadata": {
        "colab": {
          "base_uri": "https://localhost:8080/"
        },
        "id": "Ri1wZKQKQ7cc",
        "outputId": "95c4a3c3-74a2-4086-bb3f-39f22e33cbfb"
      },
      "execution_count": 10,
      "outputs": [
        {
          "output_type": "stream",
          "name": "stdout",
          "text": [
            "The current time is 03:50 AM\n",
            "The current date is May 03 2025\n"
          ]
        }
      ]
    },
    {
      "cell_type": "markdown",
      "source": [
        "SUPPLEMENTARY ACTIVITY\n",
        "\n",
        "\n",
        "1.   Create a function that would accept two inputs: a sentence(string), and a list containing bad words that the user would like to censor but not remove. The function should return the newly filtered sentence wherein the bad words are replaced with asterisks equal to the length of the censored word.\n",
        "\n",
        "\n"
      ],
      "metadata": {
        "id": "fRYpXtPORJ5O"
      }
    },
    {
      "cell_type": "code",
      "source": [
        "def simplewordfilter(sentence, bad_words):\n",
        "    for word in bad_words:\n",
        "        sentence = sentence.replace(word, '*' * len(word))\n",
        "    return sentence\n",
        "\n",
        "def main():\n",
        "    sentence = input(\"Enter a sentence: \")\n",
        "    bad_words = input(\"Enter a list of bad words separated by spaces: \").split()\n",
        "    filtered_sentence = simplewordfilter(sentence, bad_words)\n",
        "    print(\"Filtered sentence:\", filtered_sentence)\n",
        "\n",
        "if __name__ == \"__main__\":\n",
        "    main()"
      ],
      "metadata": {
        "colab": {
          "base_uri": "https://localhost:8080/"
        },
        "id": "atF92h29RI6R",
        "outputId": "17a74878-84fb-4275-b041-a470f8b1daed"
      },
      "execution_count": 11,
      "outputs": [
        {
          "output_type": "stream",
          "name": "stdout",
          "text": [
            "Enter a sentence: bad CJ word\n",
            "Enter a list of bad words separated by spaces: bad word\n",
            "Filtered sentence: *** CJ ****\n"
          ]
        }
      ]
    },
    {
      "cell_type": "markdown",
      "source": [
        "\n",
        "\n",
        "\n",
        "2.   Given a certain Physics problem create a function(projectilemotion_solver) that would take in the following inputs below and return the needed information when the function is called. Name the program containing the function projectilemotion.py then create another program main_program.py and import projectilemotion.py “A long jumper leaves the ground at an angle of 20.0° above the horizontal and at a speed of 11.0 m/s. “ (a) How far does he jump in the horizontal direction? (b) What is the maximum height reached? Given a projectile motion problem like this where the angle and speed are given, the range or distance travelled in the horizontal direction can be determined by using the formula: 𝑣𝑖2𝑠𝑖𝑛2𝜃𝑖 𝑅 = 𝑔 The maximum height can be determined using the formula: 𝑣𝑖2𝑠𝑖𝑛2𝜃𝑖 ℎ = 2𝑔\n",
        "\n"
      ],
      "metadata": {
        "id": "4X0Zkz3GRwKL"
      }
    },
    {
      "cell_type": "code",
      "source": [
        "import math\n",
        "\n",
        "def projectilemotion_solver(angle, speed):\n",
        "    g = 9.81\n",
        "    angle_rad = math.radians(angle)\n",
        "\n",
        "\n",
        "    range_distance = (speed**2 * math.sin(2 * angle_rad)) / g\n",
        "\n",
        "\n",
        "    max_height = (speed**2 * (math.sin(angle_rad)**2)) / (2 * g)\n",
        "\n",
        "    return range_distance, max_height\n",
        "\n",
        "def main():\n",
        "\n",
        "    angle = 20.0\n",
        "    speed = 11.0\n",
        "\n",
        "\n",
        "    distance, height = projectilemotion_solver(angle, speed)\n",
        "\n",
        "\n",
        "    print(f\"Range: {distance:.2f} m\")\n",
        "    print(f\"Max Height: {height:.2f} m\")\n",
        "\n",
        "if __name__ == \"__main__\":\n",
        "    main()"
      ],
      "metadata": {
        "colab": {
          "base_uri": "https://localhost:8080/"
        },
        "id": "aAhOVXfKRNn7",
        "outputId": "dc84918a-4185-4ce4-ffe4-c21b350316bf"
      },
      "execution_count": 12,
      "outputs": [
        {
          "output_type": "stream",
          "name": "stdout",
          "text": [
            "Range: 7.93 m\n",
            "Max Height: 0.72 m\n"
          ]
        }
      ]
    },
    {
      "cell_type": "markdown",
      "source": [
        "3. Create a quadratic equation solver module that would write the inputs of the user and the corresponding output into text files.\n",
        "\n"
      ],
      "metadata": {
        "id": "9TJiKK2KR-xG"
      }
    },
    {
      "cell_type": "code",
      "source": [
        "import cmath\n",
        "def quadratic_solver(a, b, c):\n",
        "\n",
        "    d = (b**2) - (4*a*c)\n",
        "\n",
        "\n",
        "    sol1 = (-b + cmath.sqrt(d)) / (2 * a)\n",
        "    sol2 = (-b - cmath.sqrt(d)) / (2 * a)\n",
        "\n",
        "    return sol1, sol2\n",
        "\n",
        "def write_to_file(a, b, c, sol1, sol2):\n",
        "\n",
        "    with open('quadratic_solutions.txt', 'a') as f:\n",
        "        f.write(f\"Equation: {a}x^2 + {b}x + {c} = 0\\n\")\n",
        "        f.write(f\"Solutions: {sol1}, {sol2}\\n\\n\")\n",
        "\n",
        "def main():\n",
        "\n",
        "    a = float(input(\"Enter coefficient a: \"))\n",
        "    b = float(input(\"Enter coefficient b: \"))\n",
        "    c = float(input(\"Enter coefficient c: \"))\n",
        "\n",
        "\n",
        "    sol1, sol2 = quadratic_solver(a, b, c)\n",
        "\n",
        "\n",
        "    write_to_file(a, b, c, sol1, sol2)\n",
        "\n",
        "\n",
        "    print(f\"The solutions are: {sol1} and {sol2}\")\n",
        "\n",
        "if __name__ == \"__main__\":\n",
        "    main()"
      ],
      "metadata": {
        "colab": {
          "base_uri": "https://localhost:8080/"
        },
        "id": "N55cXPqTR5-_",
        "outputId": "ea1b8bd5-5053-4204-99ce-6b1d3aa522f9"
      },
      "execution_count": 13,
      "outputs": [
        {
          "output_type": "stream",
          "name": "stdout",
          "text": [
            "Enter coefficient a: 4\n",
            "Enter coefficient b: 6\n",
            "Enter coefficient c: 9\n",
            "The solutions are: (-0.75+1.299038105676658j) and (-0.75-1.299038105676658j)\n"
          ]
        }
      ]
    }
  ]
}