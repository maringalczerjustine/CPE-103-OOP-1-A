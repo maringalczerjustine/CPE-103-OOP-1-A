{
  "nbformat": 4,
  "nbformat_minor": 0,
  "metadata": {
    "colab": {
      "provenance": [],
      "authorship_tag": "ABX9TyMe2K1zYX75i86oGVQPSSs6",
      "include_colab_link": true
    },
    "kernelspec": {
      "name": "python3",
      "display_name": "Python 3"
    },
    "language_info": {
      "name": "python"
    }
  },
  "cells": [
    {
      "cell_type": "markdown",
      "metadata": {
        "id": "view-in-github",
        "colab_type": "text"
      },
      "source": [
        "<a href=\"https://colab.research.google.com/github/maringalczerjustine/CPE-103-OOP-1-A/blob/main/PythonFundamentals.ipynb\" target=\"_parent\"><img src=\"https://colab.research.google.com/assets/colab-badge.svg\" alt=\"Open In Colab\"/></a>"
      ]
    },
    {
      "cell_type": "markdown",
      "source": [
        "#PYTHON IDENTATION"
      ],
      "metadata": {
        "id": "IksamUEPF3zs"
      }
    },
    {
      "cell_type": "code",
      "source": [
        "if 5>2: print (\"Five is greater than two!\")"
      ],
      "metadata": {
        "colab": {
          "base_uri": "https://localhost:8080/"
        },
        "id": "jM20Te-oIHul",
        "outputId": "9fc2e60f-a26a-4322-b163-31daee71961d"
      },
      "execution_count": 1,
      "outputs": [
        {
          "output_type": "stream",
          "name": "stdout",
          "text": [
            "Five is greater than two!\n"
          ]
        }
      ]
    },
    {
      "cell_type": "code",
      "source": [
        "print(\"Hello, World\")"
      ],
      "metadata": {
        "colab": {
          "base_uri": "https://localhost:8080/"
        },
        "id": "gGxwiGWpIyr8",
        "outputId": "0407fba3-0266-4c82-bbd2-2db89b49af9e"
      },
      "execution_count": 2,
      "outputs": [
        {
          "output_type": "stream",
          "name": "stdout",
          "text": [
            "Hello, World\n"
          ]
        }
      ]
    },
    {
      "cell_type": "code",
      "source": [],
      "metadata": {
        "id": "wPhNQPmuJBfN"
      },
      "execution_count": null,
      "outputs": []
    },
    {
      "cell_type": "markdown",
      "source": [
        "PYTHON COMMENTS"
      ],
      "metadata": {
        "id": "HXIBHLA3Jv5u"
      }
    },
    {
      "cell_type": "code",
      "source": [
        "#This is a comment\n",
        "print(\"Hello, World\")"
      ],
      "metadata": {
        "id": "vJ2Rt-7BJ2Ac"
      },
      "execution_count": null,
      "outputs": []
    },
    {
      "cell_type": "markdown",
      "source": [
        "PYTHON VARIABLE"
      ],
      "metadata": {
        "id": "7K_T-6uqKS3P"
      }
    },
    {
      "cell_type": "code",
      "source": [
        "x=1\n",
        "a,b=0,-1\n",
        "a,b,c=0,-1,2\n",
        "b=\"Sally\" #This is a type of string"
      ],
      "metadata": {
        "id": "4PMzn740KYLF"
      },
      "execution_count": 16,
      "outputs": []
    },
    {
      "cell_type": "code",
      "source": [
        "print (a,)"
      ],
      "metadata": {
        "colab": {
          "base_uri": "https://localhost:8080/"
        },
        "id": "3WLknerELdd4",
        "outputId": "6a73cf97-18f1-4d76-a1c3-380fded89be8"
      },
      "execution_count": 10,
      "outputs": [
        {
          "output_type": "stream",
          "name": "stdout",
          "text": [
            "0\n"
          ]
        }
      ]
    },
    {
      "cell_type": "code",
      "source": [
        "print(b)"
      ],
      "metadata": {
        "colab": {
          "base_uri": "https://localhost:8080/"
        },
        "id": "BL3kSnimMCK0",
        "outputId": "b29cdaa5-379b-45f4-897d-0baee8818644"
      },
      "execution_count": 12,
      "outputs": [
        {
          "output_type": "stream",
          "name": "stdout",
          "text": [
            "Sally\n"
          ]
        }
      ]
    },
    {
      "cell_type": "code",
      "source": [
        "print(a,b,c)"
      ],
      "metadata": {
        "colab": {
          "base_uri": "https://localhost:8080/"
        },
        "id": "0vxRcJ4iMGDt",
        "outputId": "aa81285a-5c1d-4074-b717-884537aa229f"
      },
      "execution_count": 13,
      "outputs": [
        {
          "output_type": "stream",
          "name": "stdout",
          "text": [
            "0 Sally 2\n"
          ]
        }
      ]
    },
    {
      "cell_type": "markdown",
      "source": [
        "Casting"
      ],
      "metadata": {
        "id": "dBB5xWAzMKs1"
      }
    },
    {
      "cell_type": "code",
      "source": [
        "b=\"Sally\" #This is a type of string\n",
        "b=int(4)\n",
        "print(b)"
      ],
      "metadata": {
        "colab": {
          "base_uri": "https://localhost:8080/"
        },
        "id": "YOLR6vCyMQKX",
        "outputId": "8f88b4da-e0cf-4bac-cee2-171df4e1da55"
      },
      "execution_count": 14,
      "outputs": [
        {
          "output_type": "stream",
          "name": "stdout",
          "text": [
            "4\n"
          ]
        }
      ]
    },
    {
      "cell_type": "code",
      "source": [
        "b=float(b)\n",
        "print(b)"
      ],
      "metadata": {
        "colab": {
          "base_uri": "https://localhost:8080/"
        },
        "id": "PU7tPaSoMifu",
        "outputId": "1ae974bd-d3c0-41ce-f488-c7fdc0ef8724"
      },
      "execution_count": 15,
      "outputs": [
        {
          "output_type": "stream",
          "name": "stdout",
          "text": [
            "4.0\n"
          ]
        }
      ]
    },
    {
      "cell_type": "markdown",
      "source": [
        "Type() function"
      ],
      "metadata": {
        "id": "QJhpO4jdNJEN"
      }
    },
    {
      "cell_type": "code",
      "source": [
        "x=5\n",
        "y=\"john\"\n",
        "print(type(x))"
      ],
      "metadata": {
        "colab": {
          "base_uri": "https://localhost:8080/"
        },
        "id": "ULZev98FNOzG",
        "outputId": "d0945691-9698-4bdd-f1ae-5dc0cf289ee1"
      },
      "execution_count": 17,
      "outputs": [
        {
          "output_type": "stream",
          "name": "stdout",
          "text": [
            "<class 'int'>\n"
          ]
        }
      ]
    },
    {
      "cell_type": "code",
      "source": [
        "print(type(y))"
      ],
      "metadata": {
        "colab": {
          "base_uri": "https://localhost:8080/"
        },
        "id": "RAapA55LNec8",
        "outputId": "5445e6ac-e731-4fc2-d10d-b84e0b12e207"
      },
      "execution_count": 18,
      "outputs": [
        {
          "output_type": "stream",
          "name": "stdout",
          "text": [
            "<class 'str'>\n"
          ]
        }
      ]
    },
    {
      "cell_type": "markdown",
      "source": [
        "\"Double quotes\" or 'Single' quotes"
      ],
      "metadata": {
        "id": "9b23pcrBNv5N"
      }
    },
    {
      "cell_type": "code",
      "source": [
        "y=\"John\""
      ],
      "metadata": {
        "id": "mP_kb6TTN5pe"
      },
      "execution_count": 20,
      "outputs": []
    },
    {
      "cell_type": "code",
      "source": [
        "y='John'"
      ],
      "metadata": {
        "id": "HjMm6GD2N_Zu"
      },
      "execution_count": 21,
      "outputs": []
    },
    {
      "cell_type": "code",
      "source": [
        "print (y)"
      ],
      "metadata": {
        "colab": {
          "base_uri": "https://localhost:8080/"
        },
        "id": "s3EW02LfOUps",
        "outputId": "7f2d9b13-970c-4a32-d6f0-bc8ee3252d84"
      },
      "execution_count": 22,
      "outputs": [
        {
          "output_type": "stream",
          "name": "stdout",
          "text": [
            "John\n"
          ]
        }
      ]
    },
    {
      "cell_type": "markdown",
      "source": [
        "Case sensitive"
      ],
      "metadata": {
        "id": "3imPVZwzORJk"
      }
    },
    {
      "cell_type": "code",
      "source": [
        "\n",
        "a=4\n",
        "A=\"Sally\"\n",
        "#A will not overwrite a"
      ],
      "metadata": {
        "id": "LMxh6geNOdu3"
      },
      "execution_count": 24,
      "outputs": []
    },
    {
      "cell_type": "code",
      "source": [
        "print (a,A)"
      ],
      "metadata": {
        "colab": {
          "base_uri": "https://localhost:8080/"
        },
        "id": "pcPlm8cOOrUl",
        "outputId": "da5a41d1-02ac-4c22-a5b2-649e80d18580"
      },
      "execution_count": 25,
      "outputs": [
        {
          "output_type": "stream",
          "name": "stdout",
          "text": [
            "4 Sally\n"
          ]
        }
      ]
    },
    {
      "cell_type": "markdown",
      "source": [
        "Multiple Variables"
      ],
      "metadata": {
        "id": "hqyOULMDO2Y2"
      }
    },
    {
      "cell_type": "code",
      "source": [
        "x,y,z=\"one\",\"two\",\"three\"\n",
        "print(x)\n",
        "print(y)\n",
        "print(z)"
      ],
      "metadata": {
        "colab": {
          "base_uri": "https://localhost:8080/"
        },
        "id": "Lv94T1CsO4w-",
        "outputId": "7a210801-7f83-4577-835d-e3877c82aae4"
      },
      "execution_count": 29,
      "outputs": [
        {
          "output_type": "stream",
          "name": "stdout",
          "text": [
            "one\n",
            "two\n",
            "three\n"
          ]
        }
      ]
    },
    {
      "cell_type": "markdown",
      "source": [
        "One Value to Multiple variables"
      ],
      "metadata": {
        "id": "eMfUDWJPPcLd"
      }
    },
    {
      "cell_type": "code",
      "source": [
        "x=y=z=\"four\""
      ],
      "metadata": {
        "colab": {
          "base_uri": "https://localhost:8080/"
        },
        "id": "oyPOQCIaPkqt",
        "outputId": "e43cd838-e5fc-40c0-b2b8-a27239e917c5"
      },
      "execution_count": 32,
      "outputs": [
        {
          "output_type": "stream",
          "name": "stdout",
          "text": [
            "four\n",
            "four\n",
            "four\n"
          ]
        }
      ]
    },
    {
      "cell_type": "code",
      "source": [
        "print(x)\n",
        "print(y)\n",
        "print(z)"
      ],
      "metadata": {
        "colab": {
          "base_uri": "https://localhost:8080/"
        },
        "id": "i_Ept18oP7Qd",
        "outputId": "38966af9-96d4-404d-d36e-d89641fb2fe9"
      },
      "execution_count": 34,
      "outputs": [
        {
          "output_type": "stream",
          "name": "stdout",
          "text": [
            "four\n",
            "four\n",
            "four\n"
          ]
        }
      ]
    },
    {
      "cell_type": "markdown",
      "source": [
        "Output Variables"
      ],
      "metadata": {
        "id": "tSI8i7S-P-ju"
      }
    },
    {
      "cell_type": "code",
      "source": [
        "x=\"enjoying\"\n",
        "print(\"Python programming is \" + x)"
      ],
      "metadata": {
        "colab": {
          "base_uri": "https://localhost:8080/"
        },
        "id": "H18umWjwQCbm",
        "outputId": "d5b34928-893c-4558-c946-c48623931215"
      },
      "execution_count": 40,
      "outputs": [
        {
          "output_type": "stream",
          "name": "stdout",
          "text": [
            "Python programming is enjoying\n"
          ]
        }
      ]
    },
    {
      "cell_type": "markdown",
      "source": [
        "Other way:"
      ],
      "metadata": {
        "id": "wiz8P42fQDFu"
      }
    },
    {
      "cell_type": "code",
      "source": [
        "\n",
        "\n",
        "\n",
        "x=\"Python \"\n",
        "y= \"enjoying\"\n",
        "z= x+y\n",
        "print(z)"
      ],
      "metadata": {
        "colab": {
          "base_uri": "https://localhost:8080/"
        },
        "id": "FSPt3HQzQFeW",
        "outputId": "10f5c486-4626-4ec4-acb6-7b94022fe26a"
      },
      "execution_count": 42,
      "outputs": [
        {
          "output_type": "stream",
          "name": "stdout",
          "text": [
            "Python enjoying\n"
          ]
        }
      ]
    },
    {
      "cell_type": "markdown",
      "source": [
        "Arithmic Operation"
      ],
      "metadata": {
        "id": "RJygJ-CWSak9"
      }
    },
    {
      "cell_type": "code",
      "source": [
        "# + Addition x+y\n",
        "# - Subtraction x-y\n",
        "# * Multiplication x*y\n",
        "# / Division x/y\n",
        "# % Modulus x%y\n",
        "# ** Exponentaition x**y\n",
        "# // Floor Division x//y"
      ],
      "metadata": {
        "id": "n1bgJMNwSimd"
      },
      "execution_count": null,
      "outputs": []
    },
    {
      "cell_type": "code",
      "source": [],
      "metadata": {
        "id": "TsLSiHthSsGF"
      },
      "execution_count": null,
      "outputs": []
    },
    {
      "cell_type": "markdown",
      "source": [
        "Assignment Operators"
      ],
      "metadata": {
        "id": "Q58L6lSkSsvg"
      }
    },
    {
      "cell_type": "code",
      "source": [
        "a,b,c=0,-1,6\n",
        "c%=3\n",
        "print(c)"
      ],
      "metadata": {
        "colab": {
          "base_uri": "https://localhost:8080/"
        },
        "id": "29QcyPWsS1_t",
        "outputId": "773d9b49-bac4-44e7-c907-0e73cb3d5551"
      },
      "execution_count": 45,
      "outputs": [
        {
          "output_type": "stream",
          "name": "stdout",
          "text": [
            "0\n"
          ]
        }
      ]
    },
    {
      "cell_type": "markdown",
      "source": [
        "Comparison Operator"
      ],
      "metadata": {
        "id": "W0OWZPYMS2tv"
      }
    },
    {
      "cell_type": "code",
      "source": [
        "# == Equal x==y\n",
        "# != Not Equal x!=y\n",
        "# > Greater Than x>y\n",
        "# < Less Than x<y\n",
        "# >= Greater Than or Equal x>=y\n",
        "# <= Less Than or Equal x<=y\n"
      ],
      "metadata": {
        "id": "gRETEDpKS54X"
      },
      "execution_count": null,
      "outputs": []
    },
    {
      "cell_type": "markdown",
      "source": [
        "Logical Operators"
      ],
      "metadata": {
        "id": "OiZgsOwIUEcG"
      }
    },
    {
      "cell_type": "code",
      "source": [],
      "metadata": {
        "id": "v_n0kWcRVEC1"
      },
      "execution_count": null,
      "outputs": []
    },
    {
      "cell_type": "code",
      "source": [
        "a,b,c=0,-1,6\n",
        "a>b and c>b"
      ],
      "metadata": {
        "colab": {
          "base_uri": "https://localhost:8080/"
        },
        "id": "pYH0DWacUKe3",
        "outputId": "688d51c8-abff-4925-82e4-5244ec59a201"
      },
      "execution_count": 46,
      "outputs": [
        {
          "output_type": "execute_result",
          "data": {
            "text/plain": [
              "True"
            ]
          },
          "metadata": {},
          "execution_count": 46
        }
      ]
    },
    {
      "cell_type": "markdown",
      "source": [
        "Identity Operators"
      ],
      "metadata": {
        "id": "K0mR20HPULGx"
      }
    },
    {
      "cell_type": "code",
      "source": [],
      "metadata": {
        "id": "0xl93Q-TVPBG"
      },
      "execution_count": null,
      "outputs": []
    },
    {
      "cell_type": "code",
      "source": [
        "a,b,c=0,-1,5\n",
        "a is c"
      ],
      "metadata": {
        "colab": {
          "base_uri": "https://localhost:8080/"
        },
        "id": "jRuoz8fwUNuF",
        "outputId": "26bca134-f8e0-4f1f-eadf-eb61fa961110"
      },
      "execution_count": 47,
      "outputs": [
        {
          "output_type": "execute_result",
          "data": {
            "text/plain": [
              "False"
            ]
          },
          "metadata": {},
          "execution_count": 47
        }
      ]
    },
    {
      "cell_type": "markdown",
      "source": [
        "Bitwise Operators"
      ],
      "metadata": {
        "id": "AWHLYblLUOio"
      }
    },
    {
      "cell_type": "code",
      "source": [
        "#Decimal to Binary\n",
        "#10 = 1010\n",
        "x=10\n",
        "x<<1\n",
        "print(10)"
      ],
      "metadata": {
        "colab": {
          "base_uri": "https://localhost:8080/"
        },
        "id": "UtKfNztPWa_1",
        "outputId": "a7c110fc-21b7-4041-84ca-c46a196aa511"
      },
      "execution_count": 59,
      "outputs": [
        {
          "output_type": "stream",
          "name": "stdout",
          "text": [
            "10\n"
          ]
        }
      ]
    },
    {
      "cell_type": "markdown",
      "source": [
        "Application 1"
      ],
      "metadata": {
        "id": "1Meg1LQdYlnu"
      }
    },
    {
      "cell_type": "code",
      "source": [
        "# Application 1\n",
        "# Area of a Triangle\n",
        "b=4\n",
        "h=8\n",
        "Area = b*h/2\n",
        "print(\"A =\", Area)"
      ],
      "metadata": {
        "colab": {
          "base_uri": "https://localhost:8080/"
        },
        "id": "_maoZsTuYoAg",
        "outputId": "9ed495a6-f0a1-4cd3-9b73-75ce6f81e136"
      },
      "execution_count": 69,
      "outputs": [
        {
          "output_type": "stream",
          "name": "stdout",
          "text": [
            "A = 16.0\n"
          ]
        }
      ]
    },
    {
      "cell_type": "code",
      "source": [
        "# Area of a Rectangle\n",
        "l=34\n",
        "w=6\n",
        "Area = l*w\n",
        "print(\"A =\", Area)"
      ],
      "metadata": {
        "colab": {
          "base_uri": "https://localhost:8080/"
        },
        "id": "Lqd0mfLpagZF",
        "outputId": "2483301e-aef1-4625-8fc5-aef8b6c3b047"
      },
      "execution_count": 70,
      "outputs": [
        {
          "output_type": "stream",
          "name": "stdout",
          "text": [
            "A = 204\n"
          ]
        }
      ]
    },
    {
      "cell_type": "code",
      "source": [
        "# Area of a Rhombus\n",
        "d1=4\n",
        "d2=6\n",
        "Area = d1*d2/2\n",
        "print(\"A =\", Area)"
      ],
      "metadata": {
        "colab": {
          "base_uri": "https://localhost:8080/"
        },
        "id": "6cgUlg6La09N",
        "outputId": "3f09f300-a244-46fc-ebd5-18939a719a0e"
      },
      "execution_count": 71,
      "outputs": [
        {
          "output_type": "stream",
          "name": "stdout",
          "text": [
            "A = 12.0\n"
          ]
        }
      ]
    },
    {
      "cell_type": "code",
      "source": [
        "# Volume of Sphere\n",
        "r = 8\n",
        "pi = 3.14\n",
        "Volume = 4/3*pi*r**3\n",
        "print(\"V =\", Volume)"
      ],
      "metadata": {
        "colab": {
          "base_uri": "https://localhost:8080/"
        },
        "id": "HtjP-cv5bQd_",
        "outputId": "4490ce1f-02fb-4118-9724-6a60f101284c"
      },
      "execution_count": 72,
      "outputs": [
        {
          "output_type": "stream",
          "name": "stdout",
          "text": [
            "V = 2143.5733333333333\n"
          ]
        }
      ]
    },
    {
      "cell_type": "code",
      "source": [],
      "metadata": {
        "id": "VJs0Zy6tcTOt"
      },
      "execution_count": null,
      "outputs": []
    }
  ]
}