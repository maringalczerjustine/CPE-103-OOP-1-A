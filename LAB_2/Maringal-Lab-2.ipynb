{
 "cells": [
  {
   "cell_type": "markdown",
   "id": "a36c8e47-b622-4656-8db2-b6a2cd5f4503",
   "metadata": {},
   "source": [
    "Assigning variables of different data types in Python"
   ]
  },
  {
   "cell_type": "code",
   "execution_count": 53,
   "id": "da5edde4-984b-49c9-870b-121fc8ab5847",
   "metadata": {},
   "outputs": [
    {
     "name": "stdout",
     "output_type": "stream",
     "text": [
      "5\n"
     ]
    }
   ],
   "source": [
    "value = 5\n",
    "print(value)"
   ]
  },
  {
   "cell_type": "code",
   "execution_count": 55,
   "id": "a6965988-ebfc-46cc-8825-cfe680f83d89",
   "metadata": {},
   "outputs": [
    {
     "data": {
      "text/plain": [
       "int"
      ]
     },
     "execution_count": 55,
     "metadata": {},
     "output_type": "execute_result"
    }
   ],
   "source": [
    "type(value)"
   ]
  },
  {
   "cell_type": "code",
   "execution_count": 57,
   "id": "1cedd7df-18bd-4c52-ba62-1d13c8fb4933",
   "metadata": {},
   "outputs": [
    {
     "name": "stdout",
     "output_type": "stream",
     "text": [
      "5.0\n"
     ]
    }
   ],
   "source": [
    "value = 5.0\n",
    "print(value)"
   ]
  },
  {
   "cell_type": "code",
   "execution_count": 59,
   "id": "02b86e3a-cd78-4358-80a8-af261e73e1dd",
   "metadata": {},
   "outputs": [
    {
     "data": {
      "text/plain": [
       "float"
      ]
     },
     "execution_count": 59,
     "metadata": {},
     "output_type": "execute_result"
    }
   ],
   "source": [
    "type(value)"
   ]
  },
  {
   "cell_type": "code",
   "execution_count": 61,
   "id": "53cadab6-ced3-4756-9867-5705c66c1a46",
   "metadata": {},
   "outputs": [
    {
     "name": "stdout",
     "output_type": "stream",
     "text": [
      "(2+3j)\n"
     ]
    }
   ],
   "source": [
    "value = 2+3j\n",
    "print(value)"
   ]
  },
  {
   "cell_type": "code",
   "execution_count": 63,
   "id": "20b57b9e-f279-4448-a05c-86dcf86653cf",
   "metadata": {},
   "outputs": [
    {
     "data": {
      "text/plain": [
       "complex"
      ]
     },
     "execution_count": 63,
     "metadata": {},
     "output_type": "execute_result"
    }
   ],
   "source": [
    "type(value)"
   ]
  },
  {
   "cell_type": "code",
   "execution_count": 65,
   "id": "483f9afa-21e4-450a-96f4-b178d9896b6a",
   "metadata": {},
   "outputs": [
    {
     "name": "stdout",
     "output_type": "stream",
     "text": [
      "Hello World\n"
     ]
    }
   ],
   "source": [
    "value = 'Hello World'\n",
    "print(value)"
   ]
  },
  {
   "cell_type": "code",
   "execution_count": 67,
   "id": "1b786ed8-20f6-4621-82f4-456ded71d875",
   "metadata": {},
   "outputs": [
    {
     "data": {
      "text/plain": [
       "str"
      ]
     },
     "execution_count": 67,
     "metadata": {},
     "output_type": "execute_result"
    }
   ],
   "source": [
    "type(value)"
   ]
  },
  {
   "cell_type": "code",
   "execution_count": 69,
   "id": "7d9c60ce-3688-4045-83b0-1d59d0e2b43b",
   "metadata": {},
   "outputs": [
    {
     "name": "stdout",
     "output_type": "stream",
     "text": [
      "Hello World\n"
     ]
    }
   ],
   "source": [
    "value = \"Hello World\"\n",
    "print(value)"
   ]
  },
  {
   "cell_type": "code",
   "execution_count": 71,
   "id": "f76b8d31-b7df-43a8-b797-e336481d3830",
   "metadata": {},
   "outputs": [
    {
     "data": {
      "text/plain": [
       "str"
      ]
     },
     "execution_count": 71,
     "metadata": {},
     "output_type": "execute_result"
    }
   ],
   "source": [
    "type(value)"
   ]
  },
  {
   "cell_type": "code",
   "execution_count": 73,
   "id": "45d29722-8413-4fcf-a84c-59bdde0df0e4",
   "metadata": {},
   "outputs": [
    {
     "name": "stdout",
     "output_type": "stream",
     "text": [
      "True\n"
     ]
    }
   ],
   "source": [
    "value = True\n",
    "print(value)"
   ]
  },
  {
   "cell_type": "code",
   "execution_count": 75,
   "id": "f76142df-efbf-4275-8b6f-d7ca3bdcd184",
   "metadata": {},
   "outputs": [
    {
     "data": {
      "text/plain": [
       "bool"
      ]
     },
     "execution_count": 75,
     "metadata": {},
     "output_type": "execute_result"
    }
   ],
   "source": [
    "type(value)"
   ]
  },
  {
   "cell_type": "code",
   "execution_count": 77,
   "id": "2b2fc856-cc9b-49c7-8121-f1f154c767b3",
   "metadata": {},
   "outputs": [
    {
     "name": "stdout",
     "output_type": "stream",
     "text": [
      "False\n"
     ]
    }
   ],
   "source": [
    "value = False\n",
    "print(value)"
   ]
  },
  {
   "cell_type": "code",
   "execution_count": 79,
   "id": "1e55e4fe-bd37-41c5-94e1-e975a601c086",
   "metadata": {},
   "outputs": [
    {
     "data": {
      "text/plain": [
       "bool"
      ]
     },
     "execution_count": 79,
     "metadata": {},
     "output_type": "execute_result"
    }
   ],
   "source": [
    "type(value)"
   ]
  },
  {
   "cell_type": "code",
   "execution_count": 81,
   "id": "62362e3e-9596-4923-902e-98cfbf9b4a37",
   "metadata": {},
   "outputs": [
    {
     "name": "stdout",
     "output_type": "stream",
     "text": [
      "[12345]\n"
     ]
    }
   ],
   "source": [
    "value = [12345]\n",
    "print(value)"
   ]
  },
  {
   "cell_type": "code",
   "execution_count": 83,
   "id": "51513466-f53c-47b5-a36c-3c6dc8ad53a7",
   "metadata": {},
   "outputs": [
    {
     "data": {
      "text/plain": [
       "list"
      ]
     },
     "execution_count": 83,
     "metadata": {},
     "output_type": "execute_result"
    }
   ],
   "source": [
    "type(value)"
   ]
  },
  {
   "cell_type": "code",
   "execution_count": 85,
   "id": "2cd5341d-57fb-42c9-ab24-1127efbb35a3",
   "metadata": {},
   "outputs": [
    {
     "name": "stdout",
     "output_type": "stream",
     "text": [
      "12345\n"
     ]
    }
   ],
   "source": [
    "value = (12345)\n",
    "print(value)"
   ]
  },
  {
   "cell_type": "code",
   "execution_count": 87,
   "id": "9fb101ab-bebd-42c0-9b44-444c43e6796d",
   "metadata": {},
   "outputs": [
    {
     "data": {
      "text/plain": [
       "int"
      ]
     },
     "execution_count": 87,
     "metadata": {},
     "output_type": "execute_result"
    }
   ],
   "source": [
    "type(value)"
   ]
  },
  {
   "cell_type": "code",
   "execution_count": 89,
   "id": "4f7a876e-5edf-4b7b-afcb-f95858ea2539",
   "metadata": {},
   "outputs": [
    {
     "name": "stdout",
     "output_type": "stream",
     "text": [
      "{'name': 'Czer Justine Maringal'}\n"
     ]
    }
   ],
   "source": [
    "value = {'name': 'Czer Justine Maringal'}\n",
    "print(value)"
   ]
  },
  {
   "cell_type": "code",
   "execution_count": 91,
   "id": "d2205757-abaf-4355-9520-735fd12373a3",
   "metadata": {},
   "outputs": [
    {
     "data": {
      "text/plain": [
       "dict"
      ]
     },
     "execution_count": 91,
     "metadata": {},
     "output_type": "execute_result"
    }
   ],
   "source": [
    "type(value)"
   ]
  },
  {
   "cell_type": "code",
   "execution_count": 93,
   "id": "1477dfca-8428-4460-96ab-cc3b5571e2b5",
   "metadata": {},
   "outputs": [
    {
     "name": "stdout",
     "output_type": "stream",
     "text": [
      "None\n"
     ]
    }
   ],
   "source": [
    "value = None\n",
    "print(value)"
   ]
  },
  {
   "cell_type": "code",
   "execution_count": 95,
   "id": "f9e6691d-9f5b-49a8-a0e3-75eb62b95b6d",
   "metadata": {},
   "outputs": [
    {
     "data": {
      "text/plain": [
       "NoneType"
      ]
     },
     "execution_count": 95,
     "metadata": {},
     "output_type": "execute_result"
    }
   ],
   "source": [
    "type(value)"
   ]
  },
  {
   "cell_type": "code",
   "execution_count": 97,
   "id": "3aa21ff0-4c83-4bc2-8e87-69af51565526",
   "metadata": {},
   "outputs": [
    {
     "name": "stdout",
     "output_type": "stream",
     "text": [
      "5 -6\n"
     ]
    }
   ],
   "source": [
    "value = 5\n",
    "value2 = -6\n",
    "print(value,value2)"
   ]
  },
  {
   "cell_type": "code",
   "execution_count": 105,
   "id": "b9b53a39-d3cb-4744-bcc3-5db57fa429f7",
   "metadata": {},
   "outputs": [
    {
     "data": {
      "text/plain": [
       "int"
      ]
     },
     "execution_count": 105,
     "metadata": {},
     "output_type": "execute_result"
    }
   ],
   "source": [
    "type(value)\n",
    "type(value2)"
   ]
  },
  {
   "cell_type": "markdown",
   "id": "9dbefb24-2844-4aeb-93bd-b328f8e3674e",
   "metadata": {},
   "source": [
    "Performing Operations with Python"
   ]
  },
  {
   "cell_type": "code",
   "execution_count": 107,
   "id": "7bda93ec-f678-4d5d-98e3-f2c5c2d55297",
   "metadata": {},
   "outputs": [
    {
     "name": "stdout",
     "output_type": "stream",
     "text": [
      "11.0\n"
     ]
    }
   ],
   "source": [
    "value, value2 = 5.0, 6\n",
    "print(value+value2)"
   ]
  },
  {
   "cell_type": "code",
   "execution_count": 109,
   "id": "f6b6ba77-577f-411e-8ae3-6d3a37935546",
   "metadata": {},
   "outputs": [
    {
     "name": "stdout",
     "output_type": "stream",
     "text": [
      "1.0999999999999996\n"
     ]
    }
   ],
   "source": [
    "value, value2 = -5, 6.1\n",
    "print(value+value2)"
   ]
  },
  {
   "cell_type": "code",
   "execution_count": 113,
   "id": "ed5fd0be-8257-4f56-8552-1538d9dcd06b",
   "metadata": {},
   "outputs": [
    {
     "name": "stdout",
     "output_type": "stream",
     "text": [
      "Hello World\n"
     ]
    }
   ],
   "source": [
    "value, value2 = \"Hello\", ' World'\n",
    "print(value+value2)"
   ]
  },
  {
   "cell_type": "code",
   "execution_count": 123,
   "id": "de00ad95-83c1-4d51-a35b-69efb55946e0",
   "metadata": {},
   "outputs": [
    {
     "name": "stdout",
     "output_type": "stream",
     "text": [
      "[1, 2, 3, 4, 5, 6]\n"
     ]
    }
   ],
   "source": [
    "value, value2 = [1,2,3], [4,5,6]\n",
    "print(value+value2)"
   ]
  },
  {
   "cell_type": "code",
   "execution_count": 125,
   "id": "d5d1cd9a-82a7-4597-948a-8933f6aef161",
   "metadata": {},
   "outputs": [
    {
     "name": "stdout",
     "output_type": "stream",
     "text": [
      "(1, 2, 3, 4, 5, 6)\n"
     ]
    }
   ],
   "source": [
    "value, value2 = (1,2,3), (4,5,6)\n",
    "print(value+value2)"
   ]
  },
  {
   "cell_type": "code",
   "execution_count": 141,
   "id": "a027a1bc-32d4-4038-8759-fc33ee528013",
   "metadata": {},
   "outputs": [
    {
     "name": "stdout",
     "output_type": "stream",
     "text": [
      "{'name': 'Czer'} {'age': '2'}\n"
     ]
    }
   ],
   "source": [
    "value, value2 = {\"name\":\"Czer\"}, {\"age\":\"2\"}\n",
    "print(value, value2)"
   ]
  },
  {
   "cell_type": "code",
   "execution_count": 143,
   "id": "d79da170-4e93-42d6-97df-ac4a7e578f97",
   "metadata": {},
   "outputs": [],
   "source": [
    "value, value2 = 30, 4"
   ]
  },
  {
   "cell_type": "code",
   "execution_count": 145,
   "id": "18daefb4-fe9a-475e-a7d4-ac2bb68d04d9",
   "metadata": {},
   "outputs": [
    {
     "name": "stdout",
     "output_type": "stream",
     "text": [
      "120\n"
     ]
    }
   ],
   "source": [
    "print(value*value2)"
   ]
  },
  {
   "cell_type": "code",
   "execution_count": 149,
   "id": "20f4ba5b-09f1-4778-a2eb-5a89f841d13a",
   "metadata": {},
   "outputs": [
    {
     "name": "stdout",
     "output_type": "stream",
     "text": [
      "16\n"
     ]
    }
   ],
   "source": [
    "print(value2**2)"
   ]
  },
  {
   "cell_type": "code",
   "execution_count": 151,
   "id": "ebecd256-5396-4589-861b-27b868b32eee",
   "metadata": {},
   "outputs": [
    {
     "name": "stdout",
     "output_type": "stream",
     "text": [
      "64\n"
     ]
    }
   ],
   "source": [
    "print(value2**3)"
   ]
  },
  {
   "cell_type": "code",
   "execution_count": 153,
   "id": "3b34dea8-63f3-4bc7-8255-e8469bcdca9b",
   "metadata": {},
   "outputs": [
    {
     "name": "stdout",
     "output_type": "stream",
     "text": [
      "137\n"
     ]
    }
   ],
   "source": [
    "print(value*value2+value2**2+1)"
   ]
  },
  {
   "cell_type": "code",
   "execution_count": 155,
   "id": "b2409754-896b-4cd2-b8fd-6f8aa9b66830",
   "metadata": {},
   "outputs": [
    {
     "name": "stdout",
     "output_type": "stream",
     "text": [
      "7.5\n"
     ]
    }
   ],
   "source": [
    "print(value/value2)"
   ]
  },
  {
   "cell_type": "code",
   "execution_count": 157,
   "id": "ecc94125-b7ca-4e75-9e0d-4546ea66e01f",
   "metadata": {},
   "outputs": [
    {
     "name": "stdout",
     "output_type": "stream",
     "text": [
      "2\n"
     ]
    }
   ],
   "source": [
    "print(value%value2)"
   ]
  },
  {
   "cell_type": "markdown",
   "id": "65075e1b-ed31-405f-ba87-f9e77e700f6e",
   "metadata": {},
   "source": [
    "Receiving Input Data using Python"
   ]
  },
  {
   "cell_type": "markdown",
   "id": "64374cb8-e130-4093-8470-62fb53d0250e",
   "metadata": {},
   "source": [
    "Assigning Input Data to a Variable"
   ]
  },
  {
   "cell_type": "code",
   "execution_count": 2,
   "id": "4a26aa08-9b3f-42be-932d-58502f97331f",
   "metadata": {},
   "outputs": [
    {
     "name": "stdin",
     "output_type": "stream",
     "text": [
      "Enter your name Czer Justine Maringal\n"
     ]
    }
   ],
   "source": [
    "name = input(\"Enter your name\")"
   ]
  },
  {
   "cell_type": "code",
   "execution_count": 6,
   "id": "76dc4b5d-d0c0-4a12-83a3-ea94cc641cc4",
   "metadata": {},
   "outputs": [
    {
     "name": "stdin",
     "output_type": "stream",
     "text": [
      "Enter your weight(kg) 54\n"
     ]
    }
   ],
   "source": [
    "weight = input(\"Enter your weight(kg)\")"
   ]
  },
  {
   "cell_type": "code",
   "execution_count": 12,
   "id": "5baf8b2a-460b-4002-8f59-ae4da550267c",
   "metadata": {},
   "outputs": [],
   "source": [
    "weight = float(weight)"
   ]
  },
  {
   "cell_type": "code",
   "execution_count": 20,
   "id": "0a11f830-4abf-43ce-88bc-5a482ae12542",
   "metadata": {},
   "outputs": [
    {
     "name": "stdin",
     "output_type": "stream",
     "text": [
      "Enter your height(meters) 1.64\n"
     ]
    }
   ],
   "source": [
    "height = input(\"Enter your height(meters)\")"
   ]
  },
  {
   "cell_type": "code",
   "execution_count": 22,
   "id": "e45e06fc-3937-4ad0-a884-01febdc78297",
   "metadata": {},
   "outputs": [],
   "source": [
    "height = float(height)"
   ]
  },
  {
   "cell_type": "code",
   "execution_count": 24,
   "id": "1a85d261-cd4a-484c-bbde-0639eff3fc23",
   "metadata": {},
   "outputs": [],
   "source": [
    "bmi = weight/height**2"
   ]
  },
  {
   "cell_type": "code",
   "execution_count": 30,
   "id": "4b36e74a-c511-4239-9608-d8c0f8856658",
   "metadata": {},
   "outputs": [
    {
     "name": "stdout",
     "output_type": "stream",
     "text": [
      "Name:  Czer Justine Maringal\n",
      "Weight:  54.0 kg\n",
      "Height:  1.64 m\n",
      "BMI:  20.077334919690664\n"
     ]
    }
   ],
   "source": [
    "print(\"Name: \",name)\n",
    "print(\"Weight: \",weight,\"kg\")\n",
    "print(\"Height: \",height,\"m\")\n",
    "print(\"BMI: \",bmi)"
   ]
  },
  {
   "cell_type": "markdown",
   "id": "2c510fd3-c86b-493b-a764-bf807d338243",
   "metadata": {},
   "source": [
    "Supplementary Activity:"
   ]
  },
  {
   "cell_type": "markdown",
   "id": "636b7b90-2978-47f8-997b-c80daf57907d",
   "metadata": {},
   "source": [
    "    1. Write the Python equivalent code of the following C code\n",
    "    int main(){\r",
    "        \n",
    "float base = 0, height = 0, area = 0;\n",
    "         printf(“Enter the base of the triangle: “); scanf(“%f”, &base);        \r\n",
    "printf(“Enter the height of the triangle: “); scanf(“%f”, &height)        ;\r\n",
    "area = (1/2)*base*heigh        t;\r\n",
    "print(“The area of the triangle is %f”, area);\r\n"
   ]
  },
  {
   "cell_type": "code",
   "execution_count": 32,
   "id": "fa9143de-9ac6-496b-b492-c873b9ee64d8",
   "metadata": {},
   "outputs": [
    {
     "name": "stdin",
     "output_type": "stream",
     "text": [
      "Enter the base of the triangle:  8\n",
      "Enter the height of the triangle:  13\n"
     ]
    },
    {
     "name": "stdout",
     "output_type": "stream",
     "text": [
      "The area of the triangle is 52.0\n"
     ]
    }
   ],
   "source": [
    "base = float(input(\"Enter the base of the triangle: \"))\n",
    "height = float(input(\"Enter the height of the triangle: \"))\n",
    "area = (1/2) * base * height\n",
    "print(\"The area of the triangle is\", area)"
   ]
  },
  {
   "cell_type": "markdown",
   "id": "d0800944-59c6-4604-97e2-c49dc0b225b2",
   "metadata": {},
   "source": [
    "    2. Write a program that would convert Celsius to Farenheit given the formula: F = (C*9/5)+32"
   ]
  },
  {
   "cell_type": "code",
   "execution_count": 34,
   "id": "d9c069cd-672a-4d59-92c6-46a4aef55a14",
   "metadata": {},
   "outputs": [
    {
     "name": "stdin",
     "output_type": "stream",
     "text": [
      "Enter temperature in Celsius:  46\n"
     ]
    },
    {
     "name": "stdout",
     "output_type": "stream",
     "text": [
      "Temperature in Fahrenheit: 114.8\n"
     ]
    }
   ],
   "source": [
    "celsius = float(input(\"Enter temperature in Celsius: \"))\n",
    "fahrenheit = (celsius * 9/5) + 32\n",
    "print(\"Temperature in Fahrenheit:\",fahrenheit)"
   ]
  },
  {
   "cell_type": "markdown",
   "id": "05c92426-2fb5-4015-ba7c-6f4405ba7045",
   "metadata": {},
   "source": [
    "    3. Write a program that can determine the distance between two points given the coordinates using the formula:\n",
    "    𝒅 = √(𝒙𝟐 − 𝒙𝟏)𝟐 + (𝒚𝟐 − 𝒚𝟏)𝟐 "
   ]
  },
  {
   "cell_type": "code",
   "execution_count": 40,
   "id": "ad0eda75-2a34-43d1-ae70-1df70187bce1",
   "metadata": {},
   "outputs": [
    {
     "name": "stdin",
     "output_type": "stream",
     "text": [
      "Enter x1 coordinate:  4\n",
      "Enter y1 coordinate:  7\n",
      "Enter x2 coordinate:  -8\n",
      "Enter y2 coordinate:  3\n"
     ]
    },
    {
     "name": "stdout",
     "output_type": "stream",
     "text": [
      "The distance between the two points is: 12.649110640673518\n"
     ]
    }
   ],
   "source": [
    "import math\n",
    "x1 = float(input(\"Enter x1 coordinate: \"))\n",
    "y1 = float(input(\"Enter y1 coordinate: \"))\n",
    "x2 = float(input(\"Enter x2 coordinate: \"))\n",
    "y2 = float(input(\"Enter y2 coordinate: \"))\n",
    "distance = math.sqrt((x2 - x1)**2 + (y2 - y1)**2)\n",
    "print(\"The distance between the two points is:\", distance)"
   ]
  }
 ],
 "metadata": {
  "kernelspec": {
   "display_name": "anaconda-ai-2024.04-py310",
   "language": "python",
   "name": "conda-env-anaconda-ai-2024.04-py310-py"
  },
  "language_info": {
   "codemirror_mode": {
    "name": "ipython",
    "version": 3
   },
   "file_extension": ".py",
   "mimetype": "text/x-python",
   "name": "python",
   "nbconvert_exporter": "python",
   "pygments_lexer": "ipython3",
   "version": "3.10.13"
  }
 },
 "nbformat": 4,
 "nbformat_minor": 5
}
