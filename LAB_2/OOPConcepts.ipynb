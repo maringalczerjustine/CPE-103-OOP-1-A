{
  "nbformat": 4,
  "nbformat_minor": 0,
  "metadata": {
    "colab": {
      "provenance": [],
      "authorship_tag": "ABX9TyPdkEao5+D4J8Jz2iWLfTCE",
      "include_colab_link": true
    },
    "kernelspec": {
      "name": "python3",
      "display_name": "Python 3"
    },
    "language_info": {
      "name": "python"
    }
  },
  "cells": [
    {
      "cell_type": "markdown",
      "metadata": {
        "id": "view-in-github",
        "colab_type": "text"
      },
      "source": [
        "<a href=\"https://colab.research.google.com/github/maringalczerjustine/CPE-103-OOP-1-A/blob/main/OOPConcepts.ipynb\" target=\"_parent\"><img src=\"https://colab.research.google.com/assets/colab-badge.svg\" alt=\"Open In Colab\"/></a>"
      ]
    },
    {
      "cell_type": "code",
      "execution_count": null,
      "metadata": {
        "id": "Li1M8fKC6YJ3"
      },
      "outputs": [],
      "source": []
    },
    {
      "cell_type": "markdown",
      "source": [],
      "metadata": {
        "id": "LXIcvgLj70ua"
      }
    },
    {
      "cell_type": "code",
      "source": [
        "class Car:\n",
        "    pass\n",
        "    def __init__(self,name,color,age):\n",
        "        self.name=name\n",
        "        self.color=color\n",
        "class Car:\n",
        "    def __init__(self,name,color,age):\n",
        "        self.name=name\n",
        "        self.color=color\n",
        "        self.age=age\n",
        "    def show(self):\n",
        "        print(\"Name:\",self.name,\"Color:\",self.color,\"Age:\",self.age)"
      ],
      "metadata": {
        "id": "VULnap-38BaT"
      },
      "execution_count": null,
      "outputs": []
    },
    {
      "cell_type": "markdown",
      "source": [
        "METHODS"
      ],
      "metadata": {
        "id": "9frQZDVc9nRb"
      }
    },
    {
      "cell_type": "code",
      "source": [
        "class Car:\n",
        "  pass\n",
        "  def __init__(self,make,model,year):\n",
        "    self.make = make\n",
        "    self.model = model\n",
        "    self.year = year\n",
        "  def show(self):\n",
        "    print(self,name,self.color,self.age)\n",
        "class Car:\n",
        "  car_type = \"Sedan\"\n",
        "  def __init__(self, name, mileage):\n",
        "    self.name = name\n",
        "    self.mileage = mileage\n",
        "  def description(self):\n",
        "    return \"The \" + self.name + \" car gives the mileage of \" + str(self.mileage)\n",
        "  def max_speed(self,speed):\n",
        "    return \"The \" + self.name + \" runs at the maximum speed of \" + str(speed) + \"km/hr\"\n",
        "\n",
        "obj2 = Car(\"Honda City\",24.1)\n",
        "print(obj2.description())\n",
        "print(obj2.max_speed(150))\n",
        "\n",
        "class Car:   #parent class\n",
        "\n",
        "  def __init__(self, name, mileage):\n",
        "    self.name = name\n",
        "    self.mileage = mileage\n",
        "\n",
        "  def description(self):\n",
        "    return f\"The {self.name} car gives the mileage of {self.mileage}km/i\"\n",
        "\n",
        "class BMW(Car): #child class\n",
        "  pass\n",
        "\n",
        "class Audi(Car): #child class\n",
        "  def audi_desc(self):\n",
        "    return \"This is the description method of class Audi\"\n",
        "\n",
        "bmw = BMW(\"BMW\", 39.53)\n",
        "print(bmw.description())\n",
        "\n",
        "audi = Audi(\"Audi\", 14)\n",
        "print(audi.description())\n",
        "print(audi.audi_desc())"
      ],
      "metadata": {
        "id": "otsFVA5cJeSt",
        "colab": {
          "base_uri": "https://localhost:8080/"
        },
        "outputId": "95d9dbe5-6316-4799-e5fe-9090de887db1"
      },
      "execution_count": 37,
      "outputs": [
        {
          "output_type": "stream",
          "name": "stdout",
          "text": [
            "The Honda City car gives the mileage of 24.1\n",
            "The Honda City runs at the maximum speed of 150km/hr\n",
            "The BMW car gives the mileage of 39.53km/i\n",
            "The Audi car gives the mileage of 14km/i\n",
            "This is the description method of class Audi\n"
          ]
        }
      ]
    },
    {
      "cell_type": "code",
      "source": [
        "class Shape:\n",
        "\n",
        "  def __init__(self, name, sides):\n",
        "    self.name = name\n",
        "    self.sides = sides\n",
        "\n",
        "  def description(self):\n",
        "    return f\"The {self.name} has {self.sides} sides\"\n",
        "\n",
        "class Triangle(Shape):\n",
        "  pass\n",
        "\n",
        "class Square(Shape):\n",
        "  pass\n",
        "\n",
        "class Rectangle(Shape):\n",
        "  pass\n",
        "\n",
        "triangle = Triangle(\"Triangle\", 3)\n",
        "print(triangle.description())\n",
        "\n",
        "square = Square(\"Square\", 4)\n",
        "print(square.description())\n",
        "\n",
        "rectangle = Rectangle(\"Rectangle\", 4)\n",
        "print(rectangle.description())"
      ],
      "metadata": {
        "colab": {
          "base_uri": "https://localhost:8080/"
        },
        "id": "WFND8FS8K5Ot",
        "outputId": "e04ed5ea-4327-4841-dded-72abd93cba6b"
      },
      "execution_count": null,
      "outputs": [
        {
          "output_type": "stream",
          "name": "stdout",
          "text": [
            "The Triangle has 3 sides\n",
            "The Square has 4 sides\n",
            "The Rectangle has 4 sides\n"
          ]
        }
      ]
    }
  ]
}
