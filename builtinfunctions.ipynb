{
  "nbformat": 4,
  "nbformat_minor": 0,
  "metadata": {
    "colab": {
      "provenance": [],
      "authorship_tag": "ABX9TyMxbpaVf3K7gqMUt1u5wdkz",
      "include_colab_link": true
    },
    "kernelspec": {
      "name": "python3",
      "display_name": "Python 3"
    },
    "language_info": {
      "name": "python"
    }
  },
  "cells": [
    {
      "cell_type": "markdown",
      "metadata": {
        "id": "view-in-github",
        "colab_type": "text"
      },
      "source": [
        "<a href=\"https://colab.research.google.com/github/maringalczerjustine/CPE-103-OOP-1-A/blob/main/builtinfunctions.ipynb\" target=\"_parent\"><img src=\"https://colab.research.google.com/assets/colab-badge.svg\" alt=\"Open In Colab\"/></a>"
      ]
    },
    {
      "cell_type": "markdown",
      "source": [
        "FOLDER NAME: **builtfunctions**"
      ],
      "metadata": {
        "id": "zZCSzP3luC63"
      }
    },
    {
      "cell_type": "markdown",
      "source": [
        "evaluator.py"
      ],
      "metadata": {
        "id": "gISxFBy_uVUJ"
      }
    },
    {
      "cell_type": "code",
      "execution_count": null,
      "metadata": {
        "colab": {
          "base_uri": "https://localhost:8080/"
        },
        "id": "4wxGJSWRaYSR",
        "outputId": "e8356d39-8404-484c-be87-de33b084be37"
      },
      "outputs": [
        {
          "output_type": "stream",
          "name": "stdout",
          "text": [
            "Proposotional logic evaluator for deiscrete math\n",
            "How many variables? 3\n",
            "Enter the propositional logic expression: not A\n",
            "A B C f\n",
            "0 0 0 True\n",
            "0 0 1 True\n",
            "0 1 0 True\n",
            "0 1 1 True\n",
            "1 0 0 False\n",
            "1 0 1 False\n",
            "1 1 0 False\n",
            "1 1 1 False\n"
          ]
        }
      ],
      "source": [
        " # Propositional Logic evaluator for discrete math for 2-3 variables\n",
        "print(\"Proposotional logic evaluator for deiscrete math\")\n",
        "variables = int(input(\"How many variables? \"))\n",
        "total_combinations = 2**variables\n",
        "\n",
        "combinations_list = []  # store all the possible combinations\n",
        "\n",
        "# generate the combinations\n",
        "for i in range(total_combinations):\n",
        "    bin_equivalent = bin (i)[2:]\n",
        "    while len(bin_equivalent) < variables:\n",
        "        bin_equivalent = \"0\" + bin_equivalent\n",
        "    combinations_list.append(tuple(int(val) for val in bin_equivalent))\n",
        "    # this will generate a list with values [(0,0),(0,1),(1,0), (1,1)]\n",
        "    # for two variables\n",
        "\n",
        "# main program\n",
        "expresion = input(\"Enter the propositional logic expression: \")\n",
        "# note: Only letters A,B and C are allowed to be used\n",
        "# example: not(A and B) or (A and C)\n",
        "if variables == 2:\n",
        "    print(\"A B f\")\n",
        "    for A,B in combinations_list:\n",
        "        evaluated_espression =  eval(expresion)\n",
        "        print(A,B, evaluated_espression)\n",
        "elif variables == 3:\n",
        "    print(\"A B C f\")\n",
        "    for A,B,C in combinations_list:\n",
        "        evaluated_espression =  eval(expresion)\n",
        "        print(A, B, C, evaluated_espression)"
      ]
    },
    {
      "cell_type": "markdown",
      "source": [
        "**filehandling**"
      ],
      "metadata": {
        "id": "iRYcJPe1paLG"
      }
    },
    {
      "cell_type": "markdown",
      "source": [
        "filewriter.py"
      ],
      "metadata": {
        "id": "OYC8SmifnZeV"
      }
    },
    {
      "cell_type": "code",
      "source": [
        "name = \"Royce Chua\"\n",
        "file = open(\"newfile1.txt\", 'w')\n",
        "file.write(f\"Hello, {name}!\\n\")\n",
        "file.write(\"Isn't this amazing!\\n\")\n",
        "file.write(\"that we can create and write on text files\\n\")\n",
        "file.write(\"using Python!\\n\")\n",
        "file.close()"
      ],
      "metadata": {
        "id": "DyCv6jPqnLzF"
      },
      "execution_count": null,
      "outputs": []
    },
    {
      "cell_type": "code",
      "source": [
        "name = \"Royce Chua\"\n",
        "file = open(\"newfile2.txt\", 'w')\n",
        "file.write(f\"Hello, {name}!\\n\")\n",
        "file.write(\"Isn't this amazing!\\n\")\n",
        "file.write(\"that we can create and write on text files\\n\")\n",
        "file.write(\"using Python!\\n\")\n",
        "file.close()"
      ],
      "metadata": {
        "id": "ImRG8041plCS"
      },
      "execution_count": null,
      "outputs": []
    },
    {
      "cell_type": "markdown",
      "source": [
        "filereader.py"
      ],
      "metadata": {
        "id": "uhXESQEvphaN"
      }
    },
    {
      "cell_type": "code",
      "source": [
        "file = open(\"newfile1.txt\", 'r')\n",
        "data = file.read()\n",
        "print(data)\n",
        "file.close()"
      ],
      "metadata": {
        "colab": {
          "base_uri": "https://localhost:8080/"
        },
        "id": "EPrgNYiYrXoo",
        "outputId": "ae8d9189-bc1f-406a-afae-4274be20f70e"
      },
      "execution_count": null,
      "outputs": [
        {
          "output_type": "stream",
          "name": "stdout",
          "text": [
            "Hello, Royce Chua!\n",
            "Isn't this amazing!\n",
            "that we can create and write on text files\n",
            "using Python!\n",
            "\n"
          ]
        }
      ]
    },
    {
      "cell_type": "code",
      "source": [
        "file = open(\"newfile2.txt\", 'r')\n",
        "data = file.read(12)\n",
        "print(data)\n",
        "file.close()"
      ],
      "metadata": {
        "colab": {
          "base_uri": "https://localhost:8080/"
        },
        "id": "L8JD2LtWsm6h",
        "outputId": "a341c1bd-b1d5-42d4-fd6e-d7f9eb7d263b"
      },
      "execution_count": null,
      "outputs": [
        {
          "output_type": "stream",
          "name": "stdout",
          "text": [
            "Hello, Royce\n"
          ]
        }
      ]
    },
    {
      "cell_type": "markdown",
      "source": [
        "fileappender.py"
      ],
      "metadata": {
        "id": "09Z_nYGdtMJf"
      }
    },
    {
      "cell_type": "code",
      "source": [
        "file = open(\"newfile2.txt\", 'a')\n",
        "file.write(\"and also by the programmer of course. \")\n",
        "file.close()"
      ],
      "metadata": {
        "id": "9T6FuBV0tT4g"
      },
      "execution_count": null,
      "outputs": []
    },
    {
      "cell_type": "code",
      "source": [
        "file = open(\"newfile2.txt\", 'r')\n",
        "data = file.read()\n",
        "print(data)\n",
        "file.close()"
      ],
      "metadata": {
        "colab": {
          "base_uri": "https://localhost:8080/"
        },
        "id": "ftuVm7EUtqPf",
        "outputId": "dd5eb08a-95d0-4457-d3d2-04f9a2940148"
      },
      "execution_count": null,
      "outputs": [
        {
          "output_type": "stream",
          "name": "stdout",
          "text": [
            "Hello, Royce Chua!\n",
            "Isn't this amazing!\n",
            "that we can create and write on text files\n",
            "using Python!\n",
            "and also by the programmer of course. \n"
          ]
        }
      ]
    },
    {
      "cell_type": "markdown",
      "source": [
        "NEW FOLDER: **userfunctions**"
      ],
      "metadata": {
        "id": "L_kCxpNhuo9-"
      }
    },
    {
      "cell_type": "markdown",
      "source": [
        "truthablegenerator.py"
      ],
      "metadata": {
        "id": "ycWjKgPBuzbH"
      }
    },
    {
      "cell_type": "code",
      "source": [
        "def generate_truthtable (number_of_variables): #main program\n",
        "    if number_of_variables == 0:\n",
        "        return \"You need to enter an integer\"\n",
        "    else:\n",
        "      total_combinations = 2 ** number_of_variables\n",
        "      combinations_list = []\n",
        "      for i in range(total_combinations):\n",
        "          bin_equivalent = bin(i) [2:]\n",
        "          while len(bin_equivalent)<number_of_variables:\n",
        "              bin_equivalent=\"0\"+bin_equivalent\n",
        "          combinations_list.append(tuple(int(val) for val in bin_equivalent))\n",
        "      return combinations_list\n",
        "print(generate_truthtable(3))"
      ],
      "metadata": {
        "colab": {
          "base_uri": "https://localhost:8080/"
        },
        "id": "BURbez81u7Jf",
        "outputId": "60404ea2-a221-4063-fa01-1afd52e1682f"
      },
      "execution_count": null,
      "outputs": [
        {
          "output_type": "stream",
          "name": "stdout",
          "text": [
            "[(0, 0, 0), (0, 0, 1), (0, 1, 0), (0, 1, 1), (1, 0, 0), (1, 0, 1), (1, 1, 0), (1, 1, 1)]\n"
          ]
        }
      ]
    },
    {
      "cell_type": "code",
      "source": [
        "def evaluate_propositional_logic (number_of_variables):\n",
        "    total_combinations = 2 ** number_of_variables\n",
        "    combinations_list = []\n",
        "    for i in range(total_combinations):\n",
        "        bin_equivalent = bin(i) [2:]\n",
        "        while len(bin_equivalent)<number_of_variables:\n",
        "            bin_equivalent=\"0\"+bin_equivalent\n",
        "        combinations_list.append(tuple(int(val) for val in bin_equivalent))\n",
        "    return combinations_list\n",
        "print(evaluate_propositional_logic(3))"
      ],
      "metadata": {
        "colab": {
          "base_uri": "https://localhost:8080/"
        },
        "id": "7LVrqoY6xJ-x",
        "outputId": "fd6da544-c29b-48e8-bae7-4fa986b87edc"
      },
      "execution_count": null,
      "outputs": [
        {
          "output_type": "stream",
          "name": "stdout",
          "text": [
            "[(0, 0, 0), (0, 0, 1), (0, 1, 0), (0, 1, 1), (1, 0, 0), (1, 0, 1), (1, 1, 0), (1, 1, 1)]\n"
          ]
        }
      ]
    },
    {
      "cell_type": "markdown",
      "source": [
        "NEW FOLDER: **modules1**"
      ],
      "metadata": {
        "id": "j2WD5BcdyDj3"
      }
    },
    {
      "cell_type": "markdown",
      "source": [
        "mathmodule.py"
      ],
      "metadata": {
        "id": "guqLJgovyU5_"
      }
    },
    {
      "cell_type": "code",
      "source": [
        "import math\n",
        "def quadratic_formula(a,b,c):\n",
        "    if b ** 2-(4*a*c)<0: # involving imaginary numbers\n",
        "        x1 = (complex(-b,math.floor(math.sqrt(abs(b ** 2-(4*a*c))))))/2*a\n",
        "        x2 = (complex(-b ,- 1*math.floor(math.sqrt(abs(b ** 2-(4*a*c))))))/2*a\n",
        "        return x1, x2\n",
        "    else:\n",
        "        x1 = (-b+math.sqrt(b ** 2-(4*a*c)))/(2*a)\n",
        "        x2 = (-b-math.sqrt(b ** 2-(4*a*c)))/(2*a)\n",
        "        return x1, x2\n",
        "#print(quadratic_formula(1, 12,32))\n",
        "print(quadratic_formula(1,2,3))\n"
      ],
      "metadata": {
        "colab": {
          "base_uri": "https://localhost:8080/"
        },
        "id": "InHAzkc3yYA4",
        "outputId": "8bd9a29e-6188-41bc-b740-69cc5941717b"
      },
      "execution_count": null,
      "outputs": [
        {
          "output_type": "stream",
          "name": "stdout",
          "text": [
            "((-1+1j), (-1-1j))\n"
          ]
        }
      ]
    },
    {
      "cell_type": "markdown",
      "source": [
        "mathmodule2.py"
      ],
      "metadata": {
        "id": "Y56bw4RPzXNw"
      }
    },
    {
      "cell_type": "code",
      "source": [
        "import math\n",
        "def angle_demo():\n",
        "    angle = math.sin(math.pi/2) # the default input is in radians\n",
        "    # angle sin(90)=1 in degrees == sin(pi/2)=1 in radians\n",
        "    print(angle)\n",
        "    # to make it convenient, convert to radians\n",
        "    angle = math.sin(math.radians(90))\n",
        "    print(angle)\n",
        "    # this is also similar for cosine and other trigonometric and\n",
        "    # hyperbolic functions\n",
        "angle_demo()"
      ],
      "metadata": {
        "colab": {
          "base_uri": "https://localhost:8080/"
        },
        "id": "IvqUjDigzaqx",
        "outputId": "ad0665f1-7032-494c-ff51-4d1b3991877c"
      },
      "execution_count": null,
      "outputs": [
        {
          "output_type": "stream",
          "name": "stdout",
          "text": [
            "1.0\n",
            "1.0\n"
          ]
        }
      ]
    },
    {
      "cell_type": "markdown",
      "source": [
        "dateandtime.py"
      ],
      "metadata": {
        "id": "RgtCLu4Y0a-g"
      }
    },
    {
      "cell_type": "code",
      "source": [
        "import time\n",
        "\n",
        "def pause():\n",
        "    for i in range(10,0,-1):\n",
        "        print(f\"The program will end in {i}..\")\n",
        "        time.sleep(1)\n",
        "pause()"
      ],
      "metadata": {
        "colab": {
          "base_uri": "https://localhost:8080/"
        },
        "id": "jmdqLoHZ07Rg",
        "outputId": "677d686c-3f12-4866-83ce-2a18e64f9873"
      },
      "execution_count": null,
      "outputs": [
        {
          "output_type": "stream",
          "name": "stdout",
          "text": [
            "The program will end in 10..\n",
            "The program will end in 9..\n",
            "The program will end in 8..\n",
            "The program will end in 7..\n",
            "The program will end in 6..\n",
            "The program will end in 5..\n",
            "The program will end in 4..\n",
            "The program will end in 3..\n",
            "The program will end in 2..\n",
            "The program will end in 1..\n"
          ]
        }
      ]
    },
    {
      "cell_type": "code",
      "source": [
        "import time\n",
        "\n",
        "def pause():\n",
        "    for i in range(10,0,-1):\n",
        "        print(f\"The program will end in {i}..\")\n",
        "        time.sleep(1)\n",
        "\n",
        "\n",
        "def current_time():\n",
        "      t = time.strftime(\"%I:%M:%p\")\n",
        "      return t\n",
        "      print(current_time())"
      ],
      "metadata": {
        "id": "2kCSeinT1tul"
      },
      "execution_count": null,
      "outputs": []
    },
    {
      "cell_type": "code",
      "source": [
        "import time\n",
        "\n",
        "def pause():\n",
        "    for i in range(10,0,-1):\n",
        "        print(f\"The program will end in {i}..\")\n",
        "        time.sleep(1)\n",
        "\n",
        "def current_time():\n",
        "      t = time.strftime(\"%I:%M:%p\")\n",
        "      return t\n",
        "\n",
        "def current_date():\n",
        "      d = time.strftime(\"%b-%d-%Y\")\n",
        "      return d"
      ],
      "metadata": {
        "id": "3REbRRqL2xja"
      },
      "execution_count": null,
      "outputs": []
    },
    {
      "cell_type": "markdown",
      "source": [
        "main.py"
      ],
      "metadata": {
        "id": "BqFNRoVX5ZSx"
      }
    },
    {
      "cell_type": "code",
      "source": [
        "print(\"The current time is\",current_time())\n",
        "print(\"The current time is\",current_date())"
      ],
      "metadata": {
        "colab": {
          "base_uri": "https://localhost:8080/"
        },
        "id": "v8SfriBR3tuC",
        "outputId": "ebc7e390-0a68-4d3f-99b9-0bbc9d5c78d3"
      },
      "execution_count": 108,
      "outputs": [
        {
          "output_type": "stream",
          "name": "stdout",
          "text": [
            "The current time is 11:25:AM\n",
            "The current time is Feb-15-2025\n"
          ]
        }
      ]
    },
    {
      "cell_type": "markdown",
      "source": [
        "**TASK 1**"
      ],
      "metadata": {
        "id": "zmIJ1nhzGP3h"
      }
    },
    {
      "cell_type": "code",
      "source": [
        "def censor_bad_words(sentence, bad_words):\n",
        "    words = sentence.split()\n",
        "    censored_sentence = []\n",
        "\n",
        "    for word in words:\n",
        "        if word.lower() in bad_words:\n",
        "            censored_sentence.append('*' * len(word))\n",
        "        else:\n",
        "            censored_sentence.append(word)\n",
        "\n",
        "    return ' '.join(censored_sentence)\n",
        "\n",
        "# Example\n",
        "sentence = \"This is a very bad word example.\"\n",
        "bad_words = [\"bad\"]\n",
        "print(censor_bad_words(sentence, bad_words))"
      ],
      "metadata": {
        "colab": {
          "base_uri": "https://localhost:8080/"
        },
        "id": "544XRk4kGWHJ",
        "outputId": "a2e4014d-177b-49b8-9e90-682f7974795a"
      },
      "execution_count": null,
      "outputs": [
        {
          "output_type": "stream",
          "name": "stdout",
          "text": [
            "This is a very *** word example.\n"
          ]
        }
      ]
    },
    {
      "cell_type": "markdown",
      "source": [
        "**TASK 2**"
      ],
      "metadata": {
        "id": "QA8jnsGyGliY"
      }
    },
    {
      "cell_type": "code",
      "source": [
        "import math\n",
        "\n",
        "def projectile_motion_solver(angle_degrees, initial_speed):\n",
        "    g = 9.81  # Acceleration due to gravity (m/s^2)\n",
        "    angle_radians = math.radians(angle_degrees)\n",
        "\n",
        "    # Calculate horizontal range\n",
        "    horizontal_range = (initial_speed**2 * math.sin(2 * angle_radians)) / g\n",
        "\n",
        "    # Calculate maximum height\n",
        "    max_height = (initial_speed**2 * (math.sin(angle_radians))**2) / (2 * g)\n",
        "\n",
        "    return horizontal_range, max_height\n"
      ],
      "metadata": {
        "id": "AXTLgHwdGYiS"
      },
      "execution_count": null,
      "outputs": []
    },
    {
      "cell_type": "code",
      "source": [
        "angle_degrees = 20.0\n",
        "initial_speed = 11.0\n",
        "\n",
        "horizontal_range, max_height = projectile_motion_solver(angle_degrees, initial_speed)\n",
        "\n",
        "print(f\"Horizontal Range: {horizontal_range:.2f} meters\")\n",
        "print(f\"Maximum Height: {max_height:.2f} meters\")\n"
      ],
      "metadata": {
        "colab": {
          "base_uri": "https://localhost:8080/"
        },
        "id": "T4X8lXF0GaOZ",
        "outputId": "94c9a399-06db-4295-d1ec-178aee808a29"
      },
      "execution_count": 109,
      "outputs": [
        {
          "output_type": "stream",
          "name": "stdout",
          "text": [
            "Horizontal Range: 7.93 meters\n",
            "Maximum Height: 0.72 meters\n"
          ]
        }
      ]
    },
    {
      "cell_type": "markdown",
      "source": [
        "**TASK 3**"
      ],
      "metadata": {
        "id": "-iVGo3nNGo1R"
      }
    },
    {
      "cell_type": "code",
      "source": [
        "import math\n",
        "\n",
        "def solve_quadratic(a, b, c):\n",
        "    # Calculate the discriminant\n",
        "    discriminant = b**2 - 4*a*c\n",
        "\n",
        "    if discriminant < 0:\n",
        "        return \"No real solutions\"\n",
        "    elif discriminant == 0:\n",
        "        x = -b / (2*a)\n",
        "        return (x,)\n",
        "    else:\n",
        "        x1 = (-b + math.sqrt(discriminant)) / (2*a)\n",
        "        x2 = (-b - math.sqrt(discriminant)) / (2*a)\n",
        "        return (x1, x2)\n",
        "\n",
        "def write_to_file(a, b, c, solutions):\n",
        "    with open('quadratic_solutions.txt', 'a') as file:\n",
        "        file.write(f\"Equation: {a}x^2 + {b}x + {c} = 0\\n\")\n",
        "        file.write(f\"Solutions: {solutions}\\n\")\n",
        "        file.write(\"\\n\")\n"
      ],
      "metadata": {
        "id": "8sp7N-ufGgma"
      },
      "execution_count": null,
      "outputs": []
    },
    {
      "cell_type": "code",
      "source": [
        "\n",
        "# Get user input\n",
        "a = float(input(\"Enter coefficient a: \"))\n",
        "b = float(input(\"Enter coefficient b: \"))\n",
        "c = float(input(\"Enter coefficient c: \"))\n",
        "\n",
        "# Solve the quadratic equation\n",
        "solutions = solve_quadratic(a, b, c)\n",
        "\n",
        "# Write inputs and outputs to file\n",
        "write_to_file(a, b, c, solutions)\n",
        "\n",
        "print(f\"The solutions are: {solutions}\")\n"
      ],
      "metadata": {
        "colab": {
          "base_uri": "https://localhost:8080/"
        },
        "id": "M47Bj6MYGjIa",
        "outputId": "c297825a-ad35-4048-ca41-22b295d45492"
      },
      "execution_count": 111,
      "outputs": [
        {
          "output_type": "stream",
          "name": "stdout",
          "text": [
            "Enter coefficient a: 4\n",
            "Enter coefficient b: 5\n",
            "Enter coefficient c: 6\n",
            "The solutions are: No real solutions\n"
          ]
        }
      ]
    }
  ]
}