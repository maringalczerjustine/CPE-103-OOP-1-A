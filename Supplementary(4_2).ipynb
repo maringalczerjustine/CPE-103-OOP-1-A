{
  "nbformat": 4,
  "nbformat_minor": 0,
  "metadata": {
    "colab": {
      "provenance": [],
      "authorship_tag": "ABX9TyN+ocV8PECtfPsYDO4YWBgK",
      "include_colab_link": true
    },
    "kernelspec": {
      "name": "python3",
      "display_name": "Python 3"
    },
    "language_info": {
      "name": "python"
    }
  },
  "cells": [
    {
      "cell_type": "markdown",
      "metadata": {
        "id": "view-in-github",
        "colab_type": "text"
      },
      "source": [
        "<a href=\"https://colab.research.google.com/github/maringalczerjustine/CPE-103-OOP-1-A/blob/main/Supplementary(4_2).ipynb\" target=\"_parent\"><img src=\"https://colab.research.google.com/assets/colab-badge.svg\" alt=\"Open In Colab\"/></a>"
      ]
    },
    {
      "cell_type": "markdown",
      "source": [
        "1"
      ],
      "metadata": {
        "id": "sgD5IpFCrG01"
      }
    },
    {
      "cell_type": "code",
      "execution_count": 2,
      "metadata": {
        "colab": {
          "base_uri": "https://localhost:8080/"
        },
        "id": "-YF78uV2qo4Z",
        "outputId": "7f9dc8d4-19c1-4779-bf96-51ded3fc0224"
      },
      "outputs": [
        {
          "output_type": "stream",
          "name": "stdout",
          "text": [
            "0.8475\n"
          ]
        }
      ],
      "source": [
        "str_value = 'CPE-CPE009A-2025: 0.8475'\n",
        "index = str_value.find(':')\n",
        "extracted_value = str_value[index + 1:].strip()\n",
        "float_value = float(extracted_value)\n",
        "print(float_value)\n"
      ]
    },
    {
      "cell_type": "markdown",
      "source": [
        "2"
      ],
      "metadata": {
        "id": "88VV6JCzrIPj"
      }
    },
    {
      "cell_type": "code",
      "source": [
        "first_name = input(\"Enter your first name: \")\n",
        "first_name = str(first_name)\n",
        "index = len(first_name) // 2\n",
        "middle_chars = first_name[index - 1: index + 2]\n",
        "print(\"Middle three characters:\", middle_chars)\n"
      ],
      "metadata": {
        "colab": {
          "base_uri": "https://localhost:8080/"
        },
        "id": "mzqoRDkKrKGh",
        "outputId": "9673d1a7-ce35-4b8d-bfa3-04002fd48165"
      },
      "execution_count": 6,
      "outputs": [
        {
          "output_type": "stream",
          "name": "stdout",
          "text": [
            "Enter your first name: Czer Justine\n",
            "Middle three characters: Jus\n"
          ]
        }
      ]
    }
  ]
}