{
  "nbformat": 4,
  "nbformat_minor": 0,
  "metadata": {
    "colab": {
      "provenance": [],
      "authorship_tag": "ABX9TyPvhLFJ9qtF+7sn0LNrb+UL",
      "include_colab_link": true
    },
    "kernelspec": {
      "name": "python3",
      "display_name": "Python 3"
    },
    "language_info": {
      "name": "python"
    }
  },
  "cells": [
    {
      "cell_type": "markdown",
      "metadata": {
        "id": "view-in-github",
        "colab_type": "text"
      },
      "source": [
        "<a href=\"https://colab.research.google.com/github/maringalczerjustine/CPE-103-OOP-1-A/blob/main/VariablesAndDataTypes.ipynb\" target=\"_parent\"><img src=\"https://colab.research.google.com/assets/colab-badge.svg\" alt=\"Open In Colab\"/></a>"
      ]
    },
    {
      "cell_type": "markdown",
      "source": [
        "VARIABLES AND DATA TYPES"
      ],
      "metadata": {
        "id": "kpoJrcSM0YE0"
      }
    },
    {
      "cell_type": "markdown",
      "source": [
        "Numbers"
      ],
      "metadata": {
        "id": "gqpsKM6G1Aer"
      }
    },
    {
      "cell_type": "code",
      "execution_count": 2,
      "metadata": {
        "id": "Bv8r8IFO0XgR"
      },
      "outputs": [],
      "source": [
        "varNum = 123\n",
        "pi = 3.14159"
      ]
    },
    {
      "cell_type": "markdown",
      "source": [
        "Strings"
      ],
      "metadata": {
        "id": "2MfU7rR21LLh"
      }
    },
    {
      "cell_type": "code",
      "source": [
        "varString = \"Hello World\"\n",
        "varTest = \"This is string\""
      ],
      "metadata": {
        "id": "XQprC3su1OfN"
      },
      "execution_count": 3,
      "outputs": []
    },
    {
      "cell_type": "markdown",
      "source": [
        "List"
      ],
      "metadata": {
        "id": "a2-5t-AS1Zq4"
      }
    },
    {
      "cell_type": "code",
      "source": [
        "varList = [\"abc\",123]"
      ],
      "metadata": {
        "id": "TCvUkFO31dno"
      },
      "execution_count": 4,
      "outputs": []
    },
    {
      "cell_type": "markdown",
      "source": [
        "Tuples"
      ],
      "metadata": {
        "id": "yaX4Fdzo1_7h"
      }
    },
    {
      "cell_type": "code",
      "source": [
        "varTuple = ('abc',123,\"HELLO\")"
      ],
      "metadata": {
        "id": "95P78mNs2BNd"
      },
      "execution_count": 5,
      "outputs": []
    },
    {
      "cell_type": "markdown",
      "source": [
        "Dictionaries"
      ],
      "metadata": {
        "id": "ieyQTsJt2KZp"
      }
    },
    {
      "cell_type": "code",
      "source": [
        "var =3\n",
        "varDict = {'first':1,'2':'2nd',3:var}\n",
        "\n",
        "varDict = {}\n",
        "varDict['first']= 1\n",
        "varDict['2'] = '2nd'\n",
        "varDict[3] = var"
      ],
      "metadata": {
        "id": "jffTrmUz2NQU"
      },
      "execution_count": 7,
      "outputs": []
    },
    {
      "cell_type": "markdown",
      "source": [
        "ARITHMETIC"
      ],
      "metadata": {
        "id": "rxMHtqs528na"
      }
    },
    {
      "cell_type": "markdown",
      "source": [
        "Addition"
      ],
      "metadata": {
        "id": "N0eOcTJj3KK4"
      }
    },
    {
      "cell_type": "code",
      "source": [
        "a = 5 + 3\n",
        "\n",
        "print(a)"
      ],
      "metadata": {
        "colab": {
          "base_uri": "https://localhost:8080/"
        },
        "id": "CGSgd0Bq3pAD",
        "outputId": "71ad5169-f811-4543-ba71-8a04515dcd74"
      },
      "execution_count": 14,
      "outputs": [
        {
          "output_type": "stream",
          "name": "stdout",
          "text": [
            "8\n"
          ]
        }
      ]
    },
    {
      "cell_type": "markdown",
      "source": [
        "Subtraction"
      ],
      "metadata": {
        "id": "nNgrzupF3NpJ"
      }
    },
    {
      "cell_type": "code",
      "source": [
        "a = 5 - 3\n",
        "print(a)"
      ],
      "metadata": {
        "colab": {
          "base_uri": "https://localhost:8080/"
        },
        "id": "waGFmi444BRq",
        "outputId": "a7ba5a95-bdbd-48d8-9a3e-49db817e4f1e"
      },
      "execution_count": 15,
      "outputs": [
        {
          "output_type": "stream",
          "name": "stdout",
          "text": [
            "2\n"
          ]
        }
      ]
    },
    {
      "cell_type": "markdown",
      "source": [
        "Multiplication"
      ],
      "metadata": {
        "id": "9TJGfEAV3N_6"
      }
    },
    {
      "cell_type": "code",
      "source": [
        "a = 5 * 3\n",
        "print(a)"
      ],
      "metadata": {
        "colab": {
          "base_uri": "https://localhost:8080/"
        },
        "id": "4xztuT-n4G18",
        "outputId": "fa94cfac-2408-4d7b-a42c-20eb9a18f2a3"
      },
      "execution_count": 17,
      "outputs": [
        {
          "output_type": "stream",
          "name": "stdout",
          "text": [
            "15\n"
          ]
        }
      ]
    },
    {
      "cell_type": "markdown",
      "source": [
        "Exponent"
      ],
      "metadata": {
        "id": "IxgOKxOI3OMp"
      }
    },
    {
      "cell_type": "code",
      "source": [
        "a = 5**3\n",
        "print(a)"
      ],
      "metadata": {
        "colab": {
          "base_uri": "https://localhost:8080/"
        },
        "id": "OHjveM3Z4fAU",
        "outputId": "da346660-a760-42d9-d548-2df9eb14a4dd"
      },
      "execution_count": 18,
      "outputs": [
        {
          "output_type": "stream",
          "name": "stdout",
          "text": [
            "125\n"
          ]
        }
      ]
    },
    {
      "cell_type": "markdown",
      "source": [
        "Division"
      ],
      "metadata": {
        "id": "CUwYLUhy3Oap"
      }
    },
    {
      "cell_type": "code",
      "source": [
        "a = 5 / 3\n",
        "print(a)"
      ],
      "metadata": {
        "colab": {
          "base_uri": "https://localhost:8080/"
        },
        "id": "Cjn9Pt9P4m9j",
        "outputId": "a29c6b3d-b927-41a9-d54c-b2681255b666"
      },
      "execution_count": 19,
      "outputs": [
        {
          "output_type": "stream",
          "name": "stdout",
          "text": [
            "1.6666666666666667\n"
          ]
        }
      ]
    },
    {
      "cell_type": "markdown",
      "source": [
        "Increment"
      ],
      "metadata": {
        "id": "UqvUSobA3O8x"
      }
    },
    {
      "cell_type": "code",
      "source": [
        "a = 5\n",
        "a += 1\n",
        "print(a)"
      ],
      "metadata": {
        "colab": {
          "base_uri": "https://localhost:8080/"
        },
        "id": "nhkIRHta4tes",
        "outputId": "f18a99f2-a58c-464f-e9b3-140882fcdaa6"
      },
      "execution_count": 20,
      "outputs": [
        {
          "output_type": "stream",
          "name": "stdout",
          "text": [
            "6\n"
          ]
        }
      ]
    },
    {
      "cell_type": "markdown",
      "source": [
        "Decrement"
      ],
      "metadata": {
        "id": "4iIiQ9003PM6"
      }
    },
    {
      "cell_type": "code",
      "source": [
        "a = 5\n",
        "a -= 1\n",
        "print(a)"
      ],
      "metadata": {
        "colab": {
          "base_uri": "https://localhost:8080/"
        },
        "id": "MkyY5fN24yES",
        "outputId": "6b44d4cb-83e2-4cf1-edca-be9661a54578"
      },
      "execution_count": 21,
      "outputs": [
        {
          "output_type": "stream",
          "name": "stdout",
          "text": [
            "4\n"
          ]
        }
      ]
    },
    {
      "cell_type": "markdown",
      "source": [
        "String Concentration"
      ],
      "metadata": {
        "id": "z3xb0pMS3Pn7"
      }
    },
    {
      "cell_type": "code",
      "source": [
        "a = 'Hello'+' World'\n",
        "print(a)"
      ],
      "metadata": {
        "colab": {
          "base_uri": "https://localhost:8080/"
        },
        "id": "tSGiCwqt41qU",
        "outputId": "8ebb214e-fd58-4635-a00a-f250d47bac81"
      },
      "execution_count": 23,
      "outputs": [
        {
          "output_type": "stream",
          "name": "stdout",
          "text": [
            "Hello World\n"
          ]
        }
      ]
    },
    {
      "cell_type": "markdown",
      "source": [
        "Complex Expressions"
      ],
      "metadata": {
        "id": "ww_WqAEV3P6x"
      }
    },
    {
      "cell_type": "code",
      "source": [
        "a = 3 + 5 - 6 * 2 / 4\n",
        "print(a)"
      ],
      "metadata": {
        "colab": {
          "base_uri": "https://localhost:8080/"
        },
        "id": "raShihSl5Avk",
        "outputId": "c1ad0aa7-12d2-45d9-e151-67337b5c5d41"
      },
      "execution_count": 24,
      "outputs": [
        {
          "output_type": "stream",
          "name": "stdout",
          "text": [
            "5.0\n"
          ]
        }
      ]
    },
    {
      "cell_type": "markdown",
      "source": [
        "CONDITIONAL STATEMENTS"
      ],
      "metadata": {
        "id": "xG0-q_1S5No5"
      }
    },
    {
      "cell_type": "markdown",
      "source": [
        "Boolean Conditions"
      ],
      "metadata": {
        "id": "DfHat9Xr5Qv4"
      }
    },
    {
      "cell_type": "code",
      "source": [
        "x = True\n",
        "\n",
        "if x:\n",
        "    print(\"var x is true\")\n",
        "else:\n",
        "    print(\"var x is false\")"
      ],
      "metadata": {
        "colab": {
          "base_uri": "https://localhost:8080/"
        },
        "id": "X3z331fh5f5m",
        "outputId": "c986b23c-9dec-4f2d-d951-ee2cb59f7cdd"
      },
      "execution_count": 25,
      "outputs": [
        {
          "output_type": "stream",
          "name": "stdout",
          "text": [
            "var x is true\n"
          ]
        }
      ]
    },
    {
      "cell_type": "markdown",
      "source": [
        "String Conditions"
      ],
      "metadata": {
        "id": "lcXy6VUw5tFh"
      }
    },
    {
      "cell_type": "code",
      "source": [
        "x = \"Hello World\"\n",
        "\n",
        "if x == 'Hello World':\n",
        "    print(\"x is Hello World!\")\n",
        "else:\n",
        "    print(\"x is not Hello World!\")"
      ],
      "metadata": {
        "colab": {
          "base_uri": "https://localhost:8080/"
        },
        "id": "MAa4Wj2-5wVM",
        "outputId": "f2abe75e-2699-40ca-e9ad-038a9546317a"
      },
      "execution_count": 27,
      "outputs": [
        {
          "output_type": "stream",
          "name": "stdout",
          "text": [
            "x is Hello World!\n"
          ]
        }
      ]
    },
    {
      "cell_type": "markdown",
      "source": [
        "Numerical Conditions"
      ],
      "metadata": {
        "id": "_vQSlyrd6A0Z"
      }
    },
    {
      "cell_type": "code",
      "source": [
        "x = 10\n",
        "\n",
        "if x == '10':\n",
        "    print(\"var is a string\")\n",
        "elif x == 10:\n",
        "    print(\"var is an integer\")\n",
        "else:\n",
        "    print(\"var is none of the above\")"
      ],
      "metadata": {
        "colab": {
          "base_uri": "https://localhost:8080/"
        },
        "id": "LHGyXlW-6E32",
        "outputId": "22470e7c-3ecb-4c30-a5ca-a5b66b525a5c"
      },
      "execution_count": 28,
      "outputs": [
        {
          "output_type": "stream",
          "name": "stdout",
          "text": [
            "var is an integer\n"
          ]
        }
      ]
    },
    {
      "cell_type": "markdown",
      "source": [
        "LOOPS(Note: The Loop declaration ends with a colom (:) while its contents inside are intended)"
      ],
      "metadata": {
        "id": "R_3AeJo86e3Z"
      }
    },
    {
      "cell_type": "markdown",
      "source": [
        "For Loops"
      ],
      "metadata": {
        "id": "tRqbj7lu6g0B"
      }
    },
    {
      "cell_type": "code",
      "source": [
        "for var in range (0, 5, 2,):\n",
        "    print(var)"
      ],
      "metadata": {
        "colab": {
          "base_uri": "https://localhost:8080/"
        },
        "id": "VjMKv6PV6jFu",
        "outputId": "f663d36f-cf32-4e15-9187-817f4f945d75"
      },
      "execution_count": 29,
      "outputs": [
        {
          "output_type": "stream",
          "name": "stdout",
          "text": [
            "0\n",
            "2\n",
            "4\n"
          ]
        }
      ]
    },
    {
      "cell_type": "markdown",
      "source": [
        "While Loops"
      ],
      "metadata": {
        "id": "3W3R7pVz6tii"
      }
    },
    {
      "cell_type": "code",
      "source": [
        "var = 0\n",
        "while var < 5:\n",
        "    print(var)\n",
        "    var += 2"
      ],
      "metadata": {
        "colab": {
          "base_uri": "https://localhost:8080/"
        },
        "id": "8y8DFNBO6vS1",
        "outputId": "95520374-26eb-44d2-eff2-f588219a190d"
      },
      "execution_count": 30,
      "outputs": [
        {
          "output_type": "stream",
          "name": "stdout",
          "text": [
            "0\n",
            "2\n",
            "4\n"
          ]
        }
      ]
    },
    {
      "cell_type": "markdown",
      "source": [
        "Nested Loops"
      ],
      "metadata": {
        "id": "57WdRFI-62ny"
      }
    },
    {
      "cell_type": "code",
      "source": [
        "x = 0\n",
        "while x < 5:\n",
        "    for y in range (0,x):\n",
        "        print(y, end='')\n",
        "    x += 1\n",
        "    print()"
      ],
      "metadata": {
        "colab": {
          "base_uri": "https://localhost:8080/"
        },
        "id": "Fna2Opoy64dV",
        "outputId": "fe106b40-d46b-4a03-d57f-269148a9ffbb"
      },
      "execution_count": 32,
      "outputs": [
        {
          "output_type": "stream",
          "name": "stdout",
          "text": [
            "\n",
            "0\n",
            "01\n",
            "012\n",
            "0123\n"
          ]
        }
      ]
    },
    {
      "cell_type": "markdown",
      "source": [
        "Functions"
      ],
      "metadata": {
        "id": "iXQIe5Ql7_pC"
      }
    },
    {
      "cell_type": "markdown",
      "source": [
        "*Note: Functions are defined with the keyword 'def' before the function name. Similar to loops, before the fuction definition ends with a colon (:) while its contents inside are intended"
      ],
      "metadata": {
        "id": "AC05oN1l-fZS"
      }
    },
    {
      "cell_type": "code",
      "source": [
        "def remainder(n, m):\n",
        "  while True:\n",
        "    if n - m < 0:\n",
        "      return n\n",
        "    else:\n",
        "      n = n - m\n",
        "\n",
        "remainder(10,4)"
      ],
      "metadata": {
        "colab": {
          "base_uri": "https://localhost:8080/"
        },
        "id": "AEqEuEc67-5N",
        "outputId": "b51ec794-0da5-47b2-8624-3877b0c363e9"
      },
      "execution_count": 38,
      "outputs": [
        {
          "output_type": "execute_result",
          "data": {
            "text/plain": [
              "2"
            ]
          },
          "metadata": {},
          "execution_count": 38
        }
      ]
    },
    {
      "cell_type": "markdown",
      "source": [
        "  List"
      ],
      "metadata": {
        "id": "gncgN8wT_blS"
      }
    },
    {
      "cell_type": "markdown",
      "source": [
        "*Note: List starts with and index of 0. The remove() method erases the first value that matches the parameter."
      ],
      "metadata": {
        "id": "veEetwQtBA17"
      }
    },
    {
      "cell_type": "code",
      "source": [
        "pi= 3.14159\n",
        "varList = [1,2,'A','B','abc',123,pi]\n",
        "\n",
        "print(varList[0])\n",
        "print(varList[1])\n",
        "print(varList[2])\n",
        "print(varList[3])\n",
        "print(varList[4])\n",
        "print(varList[5])\n",
        "print(varList[6])"
      ],
      "metadata": {
        "colab": {
          "base_uri": "https://localhost:8080/"
        },
        "id": "68LdPxGp_dNA",
        "outputId": "1bdee70d-2a78-40ce-9a9d-7c59406c0c0d"
      },
      "execution_count": 40,
      "outputs": [
        {
          "output_type": "stream",
          "name": "stdout",
          "text": [
            "1\n",
            "2\n",
            "A\n",
            "B\n",
            "abc\n",
            "123\n",
            "3.14159\n"
          ]
        }
      ]
    },
    {
      "cell_type": "markdown",
      "source": [
        "varList.append('World!')\n",
        "print(varList[7])"
      ],
      "metadata": {
        "id": "5hIunbzFAYhm"
      }
    },
    {
      "cell_type": "markdown",
      "source": [
        "len(varList)"
      ],
      "metadata": {
        "id": "qrs5Py2pAejo"
      }
    },
    {
      "cell_type": "code",
      "source": [
        "print(varList[4])"
      ],
      "metadata": {
        "colab": {
          "base_uri": "https://localhost:8080/"
        },
        "id": "Sh0jL4pRAliZ",
        "outputId": "e1c00a69-7386-4d04-f23c-118a5acff47d"
      },
      "execution_count": 44,
      "outputs": [
        {
          "output_type": "stream",
          "name": "stdout",
          "text": [
            "abc\n"
          ]
        }
      ]
    },
    {
      "cell_type": "code",
      "source": [
        "varList.remove('abc')\n",
        "print(varList[4])"
      ],
      "metadata": {
        "colab": {
          "base_uri": "https://localhost:8080/"
        },
        "id": "uJHeSLycAvq1",
        "outputId": "f7653575-9aa2-4ebb-cf22-e3212e2ca7dd"
      },
      "execution_count": 46,
      "outputs": [
        {
          "output_type": "stream",
          "name": "stdout",
          "text": [
            "123\n"
          ]
        }
      ]
    },
    {
      "cell_type": "markdown",
      "source": [
        "Dictionaries"
      ],
      "metadata": {
        "id": "XZVzkarbBT4D"
      }
    },
    {
      "cell_type": "code",
      "source": [
        "var = \"Hello World\"\n",
        "varDict = {'First' : 123, 2 : 'abc',\n",
        "           '3' : var, 4:['lista','listb']}\n",
        "\n",
        "print(varDict['First'])\n",
        "print(varDict[2])\n",
        "print(varDict['3'])\n",
        "print(varDict[4])"
      ],
      "metadata": {
        "colab": {
          "base_uri": "https://localhost:8080/"
        },
        "id": "qw4D9cBMBWaT",
        "outputId": "8bbac025-6524-494b-c9a8-84677ce528cc"
      },
      "execution_count": 47,
      "outputs": [
        {
          "output_type": "stream",
          "name": "stdout",
          "text": [
            "123\n",
            "abc\n",
            "Hello World\n",
            "['lista', 'listb']\n"
          ]
        }
      ]
    },
    {
      "cell_type": "code",
      "source": [
        "len(varDict)"
      ],
      "metadata": {
        "colab": {
          "base_uri": "https://localhost:8080/"
        },
        "id": "hSK4FC7UDJB1",
        "outputId": "dc55aaf4-6933-41fb-8d84-9c82ba786f66"
      },
      "execution_count": 48,
      "outputs": [
        {
          "output_type": "execute_result",
          "data": {
            "text/plain": [
              "4"
            ]
          },
          "metadata": {},
          "execution_count": 48
        }
      ]
    },
    {
      "cell_type": "markdown",
      "source": [
        "LIST GENERATORS AND COMPREHENSION"
      ],
      "metadata": {
        "id": "up4a9gNWDXQz"
      }
    },
    {
      "cell_type": "markdown",
      "source": [
        "Generators can be used to build list in the memory as objects"
      ],
      "metadata": {
        "id": "BzVM362ADlWk"
      }
    },
    {
      "cell_type": "code",
      "source": [
        "def gen_num_up_to(n):\n",
        "  num = 0\n",
        "  while num < n:\n",
        "    yield num\n",
        "    num += 1"
      ],
      "metadata": {
        "id": "rF9ohbwJDtDg"
      },
      "execution_count": 49,
      "outputs": []
    },
    {
      "cell_type": "code",
      "source": [
        "gen_num_up_to(5)"
      ],
      "metadata": {
        "colab": {
          "base_uri": "https://localhost:8080/"
        },
        "id": "KCLxmYKhEDED",
        "outputId": "4b654bbe-96f5-412f-fea3-86fc4a5d51e8"
      },
      "execution_count": 50,
      "outputs": [
        {
          "output_type": "execute_result",
          "data": {
            "text/plain": [
              "<generator object gen_num_up_to at 0x7ea5748fd150>"
            ]
          },
          "metadata": {},
          "execution_count": 50
        }
      ]
    },
    {
      "cell_type": "markdown",
      "source": [
        "*Note: This creates an object"
      ],
      "metadata": {
        "id": "aE9mBlN6EKaq"
      }
    },
    {
      "cell_type": "code",
      "source": [
        "varList = gen_num_up_to(5)\n",
        "print([var for var in varList])"
      ],
      "metadata": {
        "colab": {
          "base_uri": "https://localhost:8080/"
        },
        "id": "3HgnPll0EP8V",
        "outputId": "66c82337-3be1-4b4f-909f-14ba74ba030a"
      },
      "execution_count": 51,
      "outputs": [
        {
          "output_type": "stream",
          "name": "stdout",
          "text": [
            "[0, 1, 2, 3, 4]\n"
          ]
        }
      ]
    },
    {
      "cell_type": "code",
      "source": [
        "def gen_num_up_to(n):\n",
        "  num = 0\n",
        "  while num < n:\n",
        "    yield num\n",
        "    num += 2\n",
        "\n",
        "varList = gen_num_up_to(5)\n",
        "print([var for var in varList])"
      ],
      "metadata": {
        "colab": {
          "base_uri": "https://localhost:8080/"
        },
        "id": "8jJA262uEgv9",
        "outputId": "83cf1aa8-b825-499b-d76d-d15f195e1863"
      },
      "execution_count": 52,
      "outputs": [
        {
          "output_type": "stream",
          "name": "stdout",
          "text": [
            "[0, 2, 4]\n"
          ]
        }
      ]
    },
    {
      "cell_type": "code",
      "source": [
        "varList = range (0, 5, 2)\n",
        "print([var for var in varList])"
      ],
      "metadata": {
        "colab": {
          "base_uri": "https://localhost:8080/"
        },
        "id": "QWYHf_gsEmgF",
        "outputId": "2c5435a1-590e-4317-97be-a557bb183b30"
      },
      "execution_count": 53,
      "outputs": [
        {
          "output_type": "stream",
          "name": "stdout",
          "text": [
            "[0, 2, 4]\n"
          ]
        }
      ]
    },
    {
      "cell_type": "markdown",
      "source": [
        "*Note: Python's built in range function range ([start], stop, [step])"
      ],
      "metadata": {
        "id": "04j4BxIQEyB_"
      }
    },
    {
      "cell_type": "markdown",
      "source": [
        "Slicing"
      ],
      "metadata": {
        "id": "Xb1IYFA2FD36"
      }
    },
    {
      "cell_type": "code",
      "source": [
        "varList = [1, 2, 3, 4, 5, 6, 7, 8, 9, 10]\n",
        "print(varList[:5])"
      ],
      "metadata": {
        "colab": {
          "base_uri": "https://localhost:8080/"
        },
        "id": "rhx0LRFbFGYo",
        "outputId": "5182b6d8-66f6-4cc1-e33b-54fade7336ed"
      },
      "execution_count": 55,
      "outputs": [
        {
          "output_type": "stream",
          "name": "stdout",
          "text": [
            "[1, 2, 3, 4, 5]\n"
          ]
        }
      ]
    },
    {
      "cell_type": "code",
      "source": [
        "print(varList[5:])"
      ],
      "metadata": {
        "colab": {
          "base_uri": "https://localhost:8080/"
        },
        "id": "aeq_2Hd1FZE1",
        "outputId": "9440783d-24cc-491b-a79a-78e807c97379"
      },
      "execution_count": 56,
      "outputs": [
        {
          "output_type": "stream",
          "name": "stdout",
          "text": [
            "[6, 7, 8, 9, 10]\n"
          ]
        }
      ]
    },
    {
      "cell_type": "code",
      "source": [
        "print(varList[-2:])"
      ],
      "metadata": {
        "colab": {
          "base_uri": "https://localhost:8080/"
        },
        "id": "pF2kV123FfUk",
        "outputId": "4243827e-61fb-4a1f-9cb4-495a35f01d60"
      },
      "execution_count": 57,
      "outputs": [
        {
          "output_type": "stream",
          "name": "stdout",
          "text": [
            "[9, 10]\n"
          ]
        }
      ]
    },
    {
      "cell_type": "code",
      "source": [
        "print(varList[2:-2])"
      ],
      "metadata": {
        "colab": {
          "base_uri": "https://localhost:8080/"
        },
        "id": "cfQHGnUdFlBl",
        "outputId": "b9377f91-9935-43d9-bfab-a8a516196042"
      },
      "execution_count": 59,
      "outputs": [
        {
          "output_type": "stream",
          "name": "stdout",
          "text": [
            "[3, 4, 5, 6, 7, 8]\n"
          ]
        }
      ]
    },
    {
      "cell_type": "code",
      "source": [
        "print(varList[2:8:2])"
      ],
      "metadata": {
        "colab": {
          "base_uri": "https://localhost:8080/"
        },
        "id": "QpnI9vxUFvK2",
        "outputId": "9cf9623f-707f-4fdc-fc79-312955027fa8"
      },
      "execution_count": 60,
      "outputs": [
        {
          "output_type": "stream",
          "name": "stdout",
          "text": [
            "[3, 5, 7]\n"
          ]
        }
      ]
    },
    {
      "cell_type": "markdown",
      "source": [
        "*Note: list( start:), list(:end), list (start:end), list(start:end:step)"
      ],
      "metadata": {
        "id": "7O4HBWO2F3Lq"
      }
    }
  ]
}
